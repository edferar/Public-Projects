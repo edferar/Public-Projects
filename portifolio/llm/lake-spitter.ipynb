{
 "cells": [
  {
   "cell_type": "code",
   "execution_count": 1,
   "id": "12188207",
   "metadata": {
    "_cell_guid": "b1076dfc-b9ad-4769-8c92-a6c4dae69d19",
    "_uuid": "8f2839f25d086af736a60e9eeb907d3b93b6e0e5",
    "execution": {
     "iopub.execute_input": "2025-10-24T20:20:57.294238Z",
     "iopub.status.busy": "2025-10-24T20:20:57.293457Z",
     "iopub.status.idle": "2025-10-24T20:20:57.302473Z",
     "shell.execute_reply": "2025-10-24T20:20:57.301296Z"
    },
    "papermill": {
     "duration": 0.013511,
     "end_time": "2025-10-24T20:20:57.303990",
     "exception": false,
     "start_time": "2025-10-24T20:20:57.290479",
     "status": "completed"
    },
    "tags": []
   },
   "outputs": [
    {
     "name": "stdout",
     "output_type": "stream",
     "text": [
      "Um cuspidor esta nascendo!\n"
     ]
    }
   ],
   "source": [
    "print(\"Um cuspidor esta nascendo!\")"
   ]
  }
 ],
 "metadata": {
  "kaggle": {
   "accelerator": "none",
   "dataSources": [],
   "dockerImageVersionId": 31153,
   "isGpuEnabled": false,
   "isInternetEnabled": false,
   "language": "python",
   "sourceType": "notebook"
  },
  "kernelspec": {
   "display_name": "Python 3",
   "language": "python",
   "name": "python3"
  },
  "language_info": {
   "codemirror_mode": {
    "name": "ipython",
    "version": 3
   },
   "file_extension": ".py",
   "mimetype": "text/x-python",
   "name": "python",
   "nbconvert_exporter": "python",
   "pygments_lexer": "ipython3",
   "version": "3.11.13"
  },
  "papermill": {
   "default_parameters": {},
   "duration": 5.226134,
   "end_time": "2025-10-24T20:20:57.625124",
   "environment_variables": {},
   "exception": null,
   "input_path": "__notebook__.ipynb",
   "output_path": "__notebook__.ipynb",
   "parameters": {},
   "start_time": "2025-10-24T20:20:52.398990",
   "version": "2.6.0"
  }
 },
 "nbformat": 4,
 "nbformat_minor": 5
}
