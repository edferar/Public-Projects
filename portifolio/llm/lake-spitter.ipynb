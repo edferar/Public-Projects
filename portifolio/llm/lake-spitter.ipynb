{
  "cells": [
    {
      "cell_type": "code",
      "execution_count": null,
      "id": "12188207",
      "metadata": {
        "_cell_guid": "b1076dfc-b9ad-4769-8c92-a6c4dae69d19",
        "_uuid": "8f2839f25d086af736a60e9eeb907d3b93b6e0e5",
        "execution": {
          "iopub.execute_input": "2025-10-24T20:20:57.294238Z",
          "iopub.status.busy": "2025-10-24T20:20:57.293457Z",
          "iopub.status.idle": "2025-10-24T20:20:57.302473Z",
          "shell.execute_reply": "2025-10-24T20:20:57.301296Z"
        },
        "papermill": {
          "duration": 0.013511,
          "end_time": "2025-10-24T20:20:57.303990",
          "exception": false,
          "start_time": "2025-10-24T20:20:57.290479",
          "status": "completed"
        },
        "tags": [],
        "id": "12188207",
        "outputId": "b7c5989f-04c7-4c50-9944-e9a79d78347b"
      },
      "outputs": [
        {
          "name": "stdout",
          "output_type": "stream",
          "text": [
            "Um cuspidor esta nascendo!\n"
          ]
        }
      ],
      "source": [
        "print(\"Um cuspidor esta nascendo!\")"
      ]
    },
    {
      "cell_type": "code",
      "source": [],
      "metadata": {
        "id": "CRroonA0A0WK"
      },
      "id": "CRroonA0A0WK",
      "execution_count": null,
      "outputs": []
    },
    {
      "cell_type": "code",
      "source": [
        "!pip install gradio duckdb pandas --quiet\n"
      ],
      "metadata": {
        "id": "nilEBfU7_3ao"
      },
      "id": "nilEBfU7_3ao",
      "execution_count": 1,
      "outputs": []
    },
    {
      "cell_type": "code",
      "source": [
        "#csv operations\n",
        "import chardet\n",
        "import pandas as pd\n",
        "import csv\n",
        "\n",
        "class CSVOperator():\n",
        "    def __init__(self, file):\n",
        "        self.df = pd.DataFrame()\n",
        "        self.primary_key = \"\"\n",
        "        self.cols = []\n",
        "        if file is not None:\n",
        "            self.load_bronze(file)\n",
        "        else:\n",
        "          return \"Envie um file CSV.\"\n",
        "\n",
        "    def get_file_options(self, filename):\n",
        "        options = {}\n",
        "        with open(filename, 'rb') as f:\n",
        "            sample = f.read(10000)\n",
        "            sniffer = csv.Sniffer()\n",
        "            dialect = sniffer.sniff(sample)\n",
        "            options[\"delimiter\"] = dialect.delimiter\n",
        "            options[\"encoding\"] = chardet.detect(sample)['encoding']\n",
        "        return options\n",
        "\n",
        "    def preview_bronze(self):\n",
        "        return self.df.head(5)\n",
        "\n",
        "    def set_primary_key(self, column_name):\n",
        "        if column_name in self.df.columns:\n",
        "            self.primary_key = column_name\n",
        "\n",
        "    def load_bronze(self,file):\n",
        "        try:\n",
        "          #op = self.get_file_options(file.name)\n",
        "          self.df = pd.read_csv(file.name,\n",
        "                               # delimiter=op[\"encoding\"],\n",
        "                                #encoding=op[\"encoding\"],\n",
        "                                skipinitialspace=True,\n",
        "                                quotechar='\"'\n",
        "                                )\n",
        "          self.cols = list(self.df.columns)\n",
        "\n",
        "\n",
        "\n",
        "          #return self.df\n",
        "        except Exception as e:\n",
        "          return str(e)\n",
        "\n"
      ],
      "metadata": {
        "id": "-8fKAy_MFPm9"
      },
      "id": "-8fKAy_MFPm9",
      "execution_count": 109,
      "outputs": []
    },
    {
      "cell_type": "code",
      "source": [
        "\n",
        "url = 'https://raw.githubusercontent.com/alura-cursos/llamaIndex_pandas_query/refs/heads/main/Dados/vendas.csv'\n",
        "df = pd.read_csv(url)\n",
        "list(df.columns)"
      ],
      "metadata": {
        "id": "iiCrp4ZHLCIa",
        "outputId": "ffed6ebb-0717-4d69-9308-80224ea979aa",
        "colab": {
          "base_uri": "https://localhost:8080/"
        }
      },
      "id": "iiCrp4ZHLCIa",
      "execution_count": 108,
      "outputs": [
        {
          "output_type": "execute_result",
          "data": {
            "text/plain": [
              "['ID_compra',\n",
              " 'filial',\n",
              " 'cidade',\n",
              " 'tipo_cliente',\n",
              " 'genero',\n",
              " 'tipo_produto',\n",
              " 'preco_unitario',\n",
              " 'quantidade',\n",
              " 'imposto_5%',\n",
              " 'total',\n",
              " 'data',\n",
              " 'hora',\n",
              " 'forma_pagamento',\n",
              " 'avaliacao']"
            ]
          },
          "metadata": {},
          "execution_count": 108
        }
      ]
    },
    {
      "cell_type": "code",
      "source": [
        "import gradio as gr\n",
        "\n",
        "def run_bronze(file):\n",
        "    csv_operator = CSVOperator(file)\n",
        "    return csv_operator\n",
        "\n",
        "def preview_bronze(csv_operator):\n",
        "    return csv_operator.preview_bronze()\n",
        "\n",
        "def set_pk_column(csv_operator, pk_column):\n",
        "    if csv_operator is not None:\n",
        "        csv_operator.set_primary_key(pk_column)\n",
        "    return csv_operator\n",
        "\n",
        "#button options\n",
        "\n",
        "def toggle_button_pk(csv_operator,checkbox_value):\n",
        "    if checkbox_value:\n",
        "        return gr.update(interactive=True, visible=True,choices=csv_operator.cols)\n",
        "    else:\n",
        "        return gr.update(interactive=False, visible=False)\n",
        "\n",
        "with gr.Blocks(title=\"Arquitetura Medalhão - Data Spitter - CSV - multi Reads\") as demo:\n",
        "    gr.Markdown(\"#Arquitetura Medalhão (Bronze / Silver / Gold)\")\n",
        "    gr.Markdown(\"# Spitter Data Lakehouse Explorer\")\n",
        "    gr.Markdown(\"Leia seus dados, configure as operacoes, e maos a obra. Apresentamos suporte a cargas incrementais e de sobrescrita\")\n",
        "\n",
        "\n",
        "    #BronzeLayer\n",
        "    with gr.Tab(\"Bronze Layer\"):\n",
        "        gr.Markdown(\"### Upload dos dados brutos\")\n",
        "        state_csv_operator = gr.State(None)\n",
        "        state_choices = gr.State([])\n",
        "        csv_bronze = gr.File(label=\"Selecione um CSV\",file_count=\"single\", type=\"filepath\")\n",
        "        csv_bronze.upload(run_bronze, inputs=csv_bronze, outputs=state_csv_operator)\n",
        "\n",
        "        gr.Markdown(\"### Preview dos dados brutos\")\n",
        "        bronze_btn = gr.Button(\"Preview Bronze\")\n",
        "        bronze_table = gr.DataFrame(label=\"Bronze Data\")\n",
        "        bronze_btn.click(preview_bronze, inputs=state_csv_operator, outputs=bronze_table)\n",
        "\n",
        "        pk_checkbox = gr.Checkbox(label=\"Does the table have a primary key??\", value=False)\n",
        "        pk_dropdown = gr.Dropdown(label=\"Select the primary key\", choices=[], interactive=False, visible=False)\n",
        "        pk_checkbox.change(toggle_button_pk, inputs=[state_csv_operator, pk_checkbox], outputs=pk_dropdown)\n",
        "        pk_dropdown.change(set_pk_column, inputs=[state_csv_operator, pk_dropdown], outputs=state_csv_operator)\n",
        "\n",
        "\n",
        "\n",
        "\n",
        "\n",
        "\n",
        "\n",
        "    # Upload atualiza apenas o state\n",
        "\n",
        "    # # Camada Silver\n",
        "    # with gr.Tab(\"Camada Silver\"):\n",
        "    #     gr.Markdown(\"### Limpeza e padronização dos dados\")\n",
        "    #     botao_silver = gr.Button(\"Transformar Bronze → Silver\")\n",
        "    #     silver_tabela = gr.DataFrame(label=\"Prévia dos dados Silver\")\n",
        "    #     botao_silver.click(transformar_para_silver, outputs=silver_tabela)\n",
        "\n",
        "    # # Camada Gold\n",
        "    # with gr.Tab(\"Camada Gold\"):\n",
        "    #     gr.Markdown(\"### Agregações e métricas finais\")\n",
        "    #     botao_gold = gr.Button(\"Transformar Silver → Gold\")\n",
        "    #     gold_tabela = gr.DataFrame(label=\"Tabela final Gold\")\n",
        "    #     botao_gold.click(transformar_para_gold, outputs=gold_tabela)\n",
        "\n",
        "demo.launch(debug=True)\n"
      ],
      "metadata": {
        "colab": {
          "base_uri": "https://localhost:8080/",
          "height": 1000
        },
        "id": "PfmR2fRj_6XA",
        "outputId": "31428808-da4d-4083-bfe3-927ad7db992c"
      },
      "id": "PfmR2fRj_6XA",
      "execution_count": null,
      "outputs": [
        {
          "output_type": "stream",
          "name": "stdout",
          "text": [
            "It looks like you are running Gradio on a hosted Jupyter notebook, which requires `share=True`. Automatically setting `share=True` (you can turn this off by setting `share=False` in `launch()` explicitly).\n",
            "\n",
            "Colab notebook detected. This cell will run indefinitely so that you can see errors and logs. To turn off, set debug=False in launch().\n",
            "* Running on public URL: https://a652368d485fed3ef1.gradio.live\n",
            "\n",
            "This share link expires in 1 week. For free permanent hosting and GPU upgrades, run `gradio deploy` from the terminal in the working directory to deploy to Hugging Face Spaces (https://huggingface.co/spaces)\n"
          ]
        },
        {
          "output_type": "display_data",
          "data": {
            "text/plain": [
              "<IPython.core.display.HTML object>"
            ],
            "text/html": [
              "<div><iframe src=\"https://a652368d485fed3ef1.gradio.live\" width=\"100%\" height=\"500\" allow=\"autoplay; camera; microphone; clipboard-read; clipboard-write;\" frameborder=\"0\" allowfullscreen></iframe></div>"
            ]
          },
          "metadata": {}
        },
        {
          "output_type": "stream",
          "name": "stderr",
          "text": [
            "ERROR:    Exception in ASGI application\n",
            "Traceback (most recent call last):\n",
            "  File \"/usr/local/lib/python3.12/dist-packages/uvicorn/protocols/http/h11_impl.py\", line 403, in run_asgi\n",
            "    result = await app(  # type: ignore[func-returns-value]\n",
            "             ^^^^^^^^^^^^^^^^^^^^^^^^^^^^^^^^^^^^^^^^^^^^^^\n",
            "  File \"/usr/local/lib/python3.12/dist-packages/uvicorn/middleware/proxy_headers.py\", line 60, in __call__\n",
            "    return await self.app(scope, receive, send)\n",
            "           ^^^^^^^^^^^^^^^^^^^^^^^^^^^^^^^^^^^^\n",
            "  File \"/usr/local/lib/python3.12/dist-packages/fastapi/applications.py\", line 1133, in __call__\n",
            "    await super().__call__(scope, receive, send)\n",
            "  File \"/usr/local/lib/python3.12/dist-packages/starlette/applications.py\", line 113, in __call__\n",
            "    await self.middleware_stack(scope, receive, send)\n",
            "  File \"/usr/local/lib/python3.12/dist-packages/starlette/middleware/errors.py\", line 186, in __call__\n",
            "    raise exc\n",
            "  File \"/usr/local/lib/python3.12/dist-packages/starlette/middleware/errors.py\", line 164, in __call__\n",
            "    await self.app(scope, receive, _send)\n",
            "  File \"/usr/local/lib/python3.12/dist-packages/gradio/brotli_middleware.py\", line 74, in __call__\n",
            "    return await self.app(scope, receive, send)\n",
            "           ^^^^^^^^^^^^^^^^^^^^^^^^^^^^^^^^^^^^\n",
            "  File \"/usr/local/lib/python3.12/dist-packages/gradio/route_utils.py\", line 882, in __call__\n",
            "    await self.app(scope, receive, send)\n",
            "  File \"/usr/local/lib/python3.12/dist-packages/starlette/middleware/exceptions.py\", line 63, in __call__\n",
            "    await wrap_app_handling_exceptions(self.app, conn)(scope, receive, send)\n",
            "  File \"/usr/local/lib/python3.12/dist-packages/starlette/_exception_handler.py\", line 53, in wrapped_app\n",
            "    raise exc\n",
            "  File \"/usr/local/lib/python3.12/dist-packages/starlette/_exception_handler.py\", line 42, in wrapped_app\n",
            "    await app(scope, receive, sender)\n",
            "  File \"/usr/local/lib/python3.12/dist-packages/fastapi/middleware/asyncexitstack.py\", line 18, in __call__\n",
            "    await self.app(scope, receive, send)\n",
            "  File \"/usr/local/lib/python3.12/dist-packages/starlette/routing.py\", line 716, in __call__\n",
            "    await self.middleware_stack(scope, receive, send)\n",
            "  File \"/usr/local/lib/python3.12/dist-packages/starlette/routing.py\", line 736, in app\n",
            "    await route.handle(scope, receive, send)\n",
            "  File \"/usr/local/lib/python3.12/dist-packages/starlette/routing.py\", line 290, in handle\n",
            "    await self.app(scope, receive, send)\n",
            "  File \"/usr/local/lib/python3.12/dist-packages/fastapi/routing.py\", line 123, in app\n",
            "    await wrap_app_handling_exceptions(app, request)(scope, receive, send)\n",
            "  File \"/usr/local/lib/python3.12/dist-packages/starlette/_exception_handler.py\", line 53, in wrapped_app\n",
            "    raise exc\n",
            "  File \"/usr/local/lib/python3.12/dist-packages/starlette/_exception_handler.py\", line 42, in wrapped_app\n",
            "    await app(scope, receive, sender)\n",
            "  File \"/usr/local/lib/python3.12/dist-packages/fastapi/routing.py\", line 109, in app\n",
            "    response = await f(request)\n",
            "               ^^^^^^^^^^^^^^^^\n",
            "  File \"/usr/local/lib/python3.12/dist-packages/fastapi/routing.py\", line 389, in app\n",
            "    raw_response = await run_endpoint_function(\n",
            "                   ^^^^^^^^^^^^^^^^^^^^^^^^^^^^\n",
            "  File \"/usr/local/lib/python3.12/dist-packages/fastapi/routing.py\", line 288, in run_endpoint_function\n",
            "    return await dependant.call(**values)\n",
            "           ^^^^^^^^^^^^^^^^^^^^^^^^^^^^^^\n",
            "  File \"/usr/local/lib/python3.12/dist-packages/gradio/routes.py\", line 1671, in get_upload_progress\n",
            "    await asyncio.wait_for(\n",
            "  File \"/usr/lib/python3.12/asyncio/tasks.py\", line 520, in wait_for\n",
            "    return await fut\n",
            "           ^^^^^^^^^\n",
            "  File \"/usr/local/lib/python3.12/dist-packages/gradio/route_utils.py\", line 528, in is_tracked\n",
            "    return await self._signals[upload_id].wait()\n",
            "           ^^^^^^^^^^^^^^^^^^^^^^^^^^^^^^^^^^^^^\n",
            "  File \"/usr/lib/python3.12/asyncio/locks.py\", line 209, in wait\n",
            "    fut = self._get_loop().create_future()\n",
            "          ^^^^^^^^^^^^^^^^\n",
            "  File \"/usr/lib/python3.12/asyncio/mixins.py\", line 20, in _get_loop\n",
            "    raise RuntimeError(f'{self!r} is bound to a different event loop')\n",
            "RuntimeError: <asyncio.locks.Event object at 0x7f6792ecd1c0 [unset]> is bound to a different event loop\n"
          ]
        }
      ]
    },
    {
      "cell_type": "code",
      "source": [],
      "metadata": {
        "id": "EGNCvDKgHsQd"
      },
      "id": "EGNCvDKgHsQd",
      "execution_count": null,
      "outputs": []
    }
  ],
  "metadata": {
    "kaggle": {
      "accelerator": "none",
      "dataSources": [],
      "dockerImageVersionId": 31153,
      "isGpuEnabled": false,
      "isInternetEnabled": false,
      "language": "python",
      "sourceType": "notebook"
    },
    "kernelspec": {
      "display_name": "Python 3",
      "language": "python",
      "name": "python3"
    },
    "language_info": {
      "codemirror_mode": {
        "name": "ipython",
        "version": 3
      },
      "file_extension": ".py",
      "mimetype": "text/x-python",
      "name": "python",
      "nbconvert_exporter": "python",
      "pygments_lexer": "ipython3",
      "version": "3.11.13"
    },
    "papermill": {
      "default_parameters": {},
      "duration": 5.226134,
      "end_time": "2025-10-24T20:20:57.625124",
      "environment_variables": {},
      "exception": null,
      "input_path": "__notebook__.ipynb",
      "output_path": "__notebook__.ipynb",
      "parameters": {},
      "start_time": "2025-10-24T20:20:52.398990",
      "version": "2.6.0"
    },
    "colab": {
      "provenance": []
    }
  },
  "nbformat": 4,
  "nbformat_minor": 5
}