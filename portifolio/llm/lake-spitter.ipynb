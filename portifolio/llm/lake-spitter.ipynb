{
 "cells": [
  {
   "cell_type": "code",
   "execution_count": 1,
   "id": "eacbf01e",
   "metadata": {
    "_cell_guid": "b1076dfc-b9ad-4769-8c92-a6c4dae69d19",
    "_uuid": "8f2839f25d086af736a60e9eeb907d3b93b6e0e5",
    "execution": {
     "iopub.execute_input": "2025-10-24T20:01:43.132029Z",
     "iopub.status.busy": "2025-10-24T20:01:43.131744Z",
     "iopub.status.idle": "2025-10-24T20:01:43.271605Z",
     "shell.execute_reply": "2025-10-24T20:01:43.270445Z"
    },
    "papermill": {
     "duration": 0.144397,
     "end_time": "2025-10-24T20:01:43.273490",
     "exception": false,
     "start_time": "2025-10-24T20:01:43.129093",
     "status": "completed"
    },
    "tags": []
   },
   "outputs": [
    {
     "name": "stdout",
     "output_type": "stream",
     "text": [
      "fatal: You must specify a repository to clone.\r\n",
      "\r\n",
      "usage: git clone [<options>] [--] <repo> [<dir>]\r\n",
      "\r\n",
      "    -v, --verbose         be more verbose\r\n",
      "    -q, --quiet           be more quiet\r\n",
      "    --progress            force progress reporting\r\n",
      "    --reject-shallow      don't clone shallow repository\r\n",
      "    -n, --no-checkout     don't create a checkout\r\n",
      "    --bare                create a bare repository\r\n",
      "    --mirror              create a mirror repository (implies bare)\r\n",
      "    -l, --local           to clone from a local repository\r\n",
      "    --no-hardlinks        don't use local hardlinks, always copy\r\n",
      "    -s, --shared          setup as shared repository\r\n",
      "    --recurse-submodules[=<pathspec>]\r\n",
      "                          initialize submodules in the clone\r\n",
      "    --recursive ...       alias of --recurse-submodules\r\n",
      "    -j, --jobs <n>        number of submodules cloned in parallel\r\n",
      "    --template <template-directory>\r\n",
      "                          directory from which templates will be used\r\n",
      "    --reference <repo>    reference repository\r\n",
      "    --reference-if-able <repo>\r\n",
      "                          reference repository\r\n",
      "    --dissociate          use --reference only while cloning\r\n",
      "    -o, --origin <name>   use <name> instead of 'origin' to track upstream\r\n",
      "    -b, --branch <branch>\r\n",
      "                          checkout <branch> instead of the remote's HEAD\r\n",
      "    -u, --upload-pack <path>\r\n",
      "                          path to git-upload-pack on the remote\r\n",
      "    --depth <depth>       create a shallow clone of that depth\r\n",
      "    --shallow-since <time>\r\n",
      "                          create a shallow clone since a specific time\r\n",
      "    --shallow-exclude <revision>\r\n",
      "                          deepen history of shallow clone, excluding rev\r\n",
      "    --single-branch       clone only one branch, HEAD or --branch\r\n",
      "    --no-tags             don't clone any tags, and make later fetches not to follow them\r\n",
      "    --shallow-submodules  any cloned submodules will be shallow\r\n",
      "    --separate-git-dir <gitdir>\r\n",
      "                          separate git dir from working tree\r\n",
      "    -c, --config <key=value>\r\n",
      "                          set config inside the new repository\r\n",
      "    --server-option <server-specific>\r\n",
      "                          option to transmit\r\n",
      "    -4, --ipv4            use IPv4 addresses only\r\n",
      "    -6, --ipv6            use IPv6 addresses only\r\n",
      "    --filter <args>       object filtering\r\n",
      "    --remote-submodules   any cloned submodules will use their remote-tracking branch\r\n",
      "    --sparse              initialize sparse-checkout file to include only files at root\r\n",
      "\r\n"
     ]
    }
   ],
   "source": [
    "!git clone "
   ]
  }
 ],
 "metadata": {
  "kaggle": {
   "accelerator": "none",
   "dataSources": [],
   "dockerImageVersionId": 31153,
   "isGpuEnabled": false,
   "isInternetEnabled": false,
   "language": "python",
   "sourceType": "notebook"
  },
  "kernelspec": {
   "display_name": "Python 3",
   "language": "python",
   "name": "python3"
  },
  "language_info": {
   "codemirror_mode": {
    "name": "ipython",
    "version": 3
   },
   "file_extension": ".py",
   "mimetype": "text/x-python",
   "name": "python",
   "nbconvert_exporter": "python",
   "pygments_lexer": "ipython3",
   "version": "3.11.13"
  },
  "papermill": {
   "default_parameters": {},
   "duration": 4.927308,
   "end_time": "2025-10-24T20:01:43.694066",
   "environment_variables": {},
   "exception": null,
   "input_path": "__notebook__.ipynb",
   "output_path": "__notebook__.ipynb",
   "parameters": {},
   "start_time": "2025-10-24T20:01:38.766758",
   "version": "2.6.0"
  }
 },
 "nbformat": 4,
 "nbformat_minor": 5
}
