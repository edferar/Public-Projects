{
 "cells": [
  {
   "cell_type": "code",
   "execution_count": 1,
   "id": "e364c8bb-4e37-4d41-96ed-3a2aa088a24f",
   "metadata": {},
   "outputs": [
    {
     "name": "stdout",
     "output_type": "stream",
     "text": [
      "/usr/bin/sh: 1: python.exe: not found\n",
      "Defaulting to user installation because normal site-packages is not writeable\n",
      "Requirement already satisfied: kafka-python in /home/jovyan/.local/lib/python3.12/site-packages (2.2.4)\n",
      "Defaulting to user installation because normal site-packages is not writeable\n",
      "Requirement already satisfied: kafka-python-ng in /home/jovyan/.local/lib/python3.12/site-packages (2.2.3)\n"
     ]
    }
   ],
   "source": [
    "!python.exe -m pip install --upgrade pip\n",
    "!pip install kafka-python\n",
    "!pip install kafka-python-ng\n",
    "#apos a instalacao o Kernel devera ser reiniciado"
   ]
  },
  {
   "cell_type": "code",
   "execution_count": 3,
   "id": "d6295ee1-ee47-4760-abdb-6ecdd2730358",
   "metadata": {},
   "outputs": [],
   "source": [
    "from kafka import KafkaProducer\n",
    "import json\n",
    "\n",
    "# Configuração do produtor\n",
    "producer = KafkaProducer(\n",
    "    bootstrap_servers='kafka:9092',  \n",
    "    #bootstrap_servers='wednesday-primary-cluster-kafka-bootstrap.kafka.svc:9092',  \n",
    "    api_version=(3, 7, 0),\n",
    ")\n"
   ]
  },
  {
   "cell_type": "code",
   "execution_count": 4,
   "id": "076e44d4-22a3-4869-a89c-8892a03474cb",
   "metadata": {},
   "outputs": [],
   "source": [
    "import json\n",
    "from datetime import datetime\n",
    "\n",
    "def send_message(topic, message):\n",
    "    #producer.send('user-topic', value=message.encode('utf-8'))\n",
    "    producer.send(\n",
    "        topic=topic,\n",
    "        value=message.encode('utf-8')\n",
    "    )\n",
    "    print(datetime.now(), \" Mensagem enviada:\", message)"
   ]
  },
  {
   "cell_type": "code",
   "execution_count": 39,
   "id": "9be0fc4a-bd60-4d4b-9009-e8ddbcce0fe5",
   "metadata": {},
   "outputs": [
    {
     "data": {
      "text/plain": [
       "'edf1bd1b-3eec-4b92-a2bb-e07ca1a93a21'"
      ]
     },
     "execution_count": 39,
     "metadata": {},
     "output_type": "execute_result"
    }
   ],
   "source": [
    "str(uuid4())"
   ]
  },
  {
   "cell_type": "code",
   "execution_count": 48,
   "id": "91cc060d-c3b0-4f65-b28f-b4013c80b0d1",
   "metadata": {},
   "outputs": [],
   "source": [
    "from faker import Faker\n",
    "import random\n",
    "import json\n",
    "from uuid import uuid4\n",
    "\n",
    "fake = Faker('pt_BR')\n",
    "\n",
    "def gerar_dado():\n",
    "    return (\n",
    "    {\n",
    "        \"eventDate\": str(datetime.now()),\n",
    "        \"requestId\" : str(uuid4()),\n",
    "        \"Data\": {\n",
    "        \"id\": fake.random_int(min=100, max=999),\n",
    "        \"nome\": fake.name(),\n",
    "        \"endereco\": {\n",
    "            \"rua\": fake.street_name(),\n",
    "            \"numero\": fake.building_number(),\n",
    "            \"cidade\": fake.city(),\n",
    "            \"estado\": fake.estado_sigla(),\n",
    "            \"localizacao\": {\n",
    "                \"latitude\": float(fake.latitude()),\n",
    "                \"longitude\": float(fake.longitude())\n",
    "            }\n",
    "        },\n",
    "        \"telefones\": [\n",
    "            {\n",
    "                \"tipo\": \"residencial\",\n",
    "                \"numero\": fake.phone_number()\n",
    "            },\n",
    "            {\n",
    "                \"tipo\": \"celular\",\n",
    "                \"numero\": fake.cellphone_number()\n",
    "            }\n",
    "        ],\n",
    "        \"comprasRecentes\": [\n",
    "            {\n",
    "                \"produto\": \"Notebook\",\n",
    "                \"preco\": round(random.uniform(3000, 5000), 2),\n",
    "                \"caracteristicas\": {\n",
    "                    \"marca\": random.choice([\"Dell\", \"HP\", \"Lenovo\", \"Apple\"]),\n",
    "                    \"memoria\": random.choice([\"8GB\", \"16GB\", \"32GB\"]),\n",
    "                    \"armazenamento\": random.choice([\"256GB SSD\", \"512GB SSD\", \"1TB SSD\"])\n",
    "                }\n",
    "            },\n",
    "            {\n",
    "                \"produto\": \"Cadeira\",\n",
    "                \"preco\": round(random.uniform(500, 1500), 2),\n",
    "                \"caracteristicas\": {\n",
    "                    \"material\": random.choice([\"Couro sintético\", \"Tecido\", \"Plástico\"]),\n",
    "                    \"cor\": random.choice([\"Preto\", \"Cinza\", \"Azul\", \"Vermelho\"])\n",
    "                }\n",
    "            }\n",
    "        ]\n",
    "    }\n",
    "    })\n",
    "\n",
    "\n",
    "def gerar_dado_simples():\n",
    "    return {\n",
    "        \"id\": fake.random_int(min=100, max=999),\n",
    "        \"nome\": fake.name(),\n",
    "        \"idade\": fake.random_int(min=8, max=80)\n",
    "    }\n",
    "    "
   ]
  },
  {
   "cell_type": "code",
   "execution_count": 49,
   "id": "029f1603-8171-4a07-bd4c-23badfd198d5",
   "metadata": {},
   "outputs": [
    {
     "data": {
      "text/plain": [
       "{'eventDate': '2025-05-07 23:07:50.397669',\n",
       " 'requestId': '11fd9051-b0bf-47fd-87a2-d6ac8883458d',\n",
       " 'Data': {'id': 141,\n",
       "  'nome': 'João Vitor Guerra',\n",
       "  'endereco': {'rua': 'Praça de Brito',\n",
       "   'numero': '84',\n",
       "   'cidade': 'Moreira do Sul',\n",
       "   'estado': 'PA',\n",
       "   'localizacao': {'latitude': 66.3396555, 'longitude': -33.939101}},\n",
       "  'telefones': [{'tipo': 'residencial', 'numero': '(084) 3280-6573'},\n",
       "   {'tipo': 'celular', 'numero': '+55 (91) 9 8539-4144'}],\n",
       "  'comprasRecentes': [{'produto': 'Notebook',\n",
       "    'preco': 3297.43,\n",
       "    'caracteristicas': {'marca': 'Lenovo',\n",
       "     'memoria': '32GB',\n",
       "     'armazenamento': '1TB SSD'}},\n",
       "   {'produto': 'Cadeira',\n",
       "    'preco': 614.95,\n",
       "    'caracteristicas': {'material': 'Tecido', 'cor': 'Vermelho'}}]}}"
      ]
     },
     "execution_count": 49,
     "metadata": {},
     "output_type": "execute_result"
    }
   ],
   "source": [
    "gerar_dado()"
   ]
  },
  {
   "cell_type": "code",
   "execution_count": 80,
   "id": "89f70c63-cbe2-4f14-b1d4-0cb5aeb0004e",
   "metadata": {},
   "outputs": [
    {
     "name": "stdout",
     "output_type": "stream",
     "text": [
      "2025-05-09 12:15:00.401036  Mensagem enviada: {\"eventDate\": \"2025-05-09 12:15:00.384624\", \"requestId\": \"f83c6e43-5745-4f7b-afea-ae7f759fed1f\", \"Data\": {\"id\": 374, \"nome\": \"Davi Miguel Azevedo\", \"endereco\": {\"rua\": \"Ladeira de das Neves\", \"numero\": \"542\", \"cidade\": \"Lima de da Mota\", \"estado\": \"DF\", \"localizacao\": {\"latitude\": 54.829021, \"longitude\": 95.175961}}, \"telefones\": [{\"tipo\": \"residencial\", \"numero\": \"11 3460 7686\"}, {\"tipo\": \"celular\", \"numero\": \"+55 29 9 3874-6186\"}], \"comprasRecentes\": [{\"produto\": \"Notebook\", \"preco\": 3014.19, \"caracteristicas\": {\"marca\": \"Lenovo\", \"memoria\": \"16GB\", \"armazenamento\": \"512GB SSD\"}}, {\"produto\": \"Cadeira\", \"preco\": 1193.74, \"caracteristicas\": {\"material\": \"Couro sintético\", \"cor\": \"Preto\"}}]}}\n"
     ]
    }
   ],
   "source": [
    "# Gerar e imprimir JSON\n",
    "\n",
    "[send_message(\"client-kafka-landing-topic\",json.dumps(gerar_dado(), ensure_ascii=False)) for i in range(1)]\n",
    "producer.flush()\n",
    "\n",
    "#print(json.dumps(dados, indent=2, ensure_ascii=False))"
   ]
  },
  {
   "cell_type": "code",
   "execution_count": 75,
   "id": "b64ac235-81a3-4e50-8ce0-b712eb860183",
   "metadata": {},
   "outputs": [
    {
     "data": {
      "text/plain": [
       "{'eventDate': '2025-05-08 16:18:18.744810',\n",
       " 'requestId': 'be8469fb-a855-4bb3-b4ab-bd18d3f57fca',\n",
       " 'Data': {'id': 782,\n",
       "  'nome': 'Dra. Lunna Ramos',\n",
       "  'endereco': {'rua': 'Aeroporto Gonçalves',\n",
       "   'numero': '48',\n",
       "   'cidade': 'Albuquerque',\n",
       "   'estado': 'DF',\n",
       "   'localizacao': {'latitude': -70.3492405, 'longitude': -95.162244}},\n",
       "  'telefones': [{'tipo': 'residencial', 'numero': '+55 (061) 3347-4995'},\n",
       "   {'tipo': 'celular', 'numero': '+55 (42) 97343-8053'}],\n",
       "  'comprasRecentes': [{'produto': 'Notebook',\n",
       "    'preco': 3107.9,\n",
       "    'caracteristicas': {'marca': 'Dell',\n",
       "     'memoria': '32GB',\n",
       "     'armazenamento': '512GB SSD'}},\n",
       "   {'produto': 'Cadeira',\n",
       "    'preco': 572.76,\n",
       "    'caracteristicas': {'material': 'Tecido', 'cor': 'Vermelho'}}]}}"
      ]
     },
     "execution_count": 75,
     "metadata": {},
     "output_type": "execute_result"
    }
   ],
   "source": [
    "{\"eventDate\": \"2025-05-08 16:18:18.744810\", \"requestId\": \"be8469fb-a855-4bb3-b4ab-bd18d3f57fca\", \"Data\": {\"id\": 782, \"nome\": \"Dra. Lunna Ramos\", \"endereco\": {\"rua\": \"Aeroporto Gonçalves\", \"numero\": \"48\", \"cidade\": \"Albuquerque\", \"estado\": \"DF\", \"localizacao\": {\"latitude\": -70.3492405, \"longitude\": -95.162244}}, \"telefones\": [{\"tipo\": \"residencial\", \"numero\": \"+55 (061) 3347-4995\"}, {\"tipo\": \"celular\", \"numero\": \"+55 (42) 97343-8053\"}], \"comprasRecentes\": [{\"produto\": \"Notebook\", \"preco\": 3107.9, \"caracteristicas\": {\"marca\": \"Dell\", \"memoria\": \"32GB\", \"armazenamento\": \"512GB SSD\"}}, {\"produto\": \"Cadeira\", \"preco\": 572.76, \"caracteristicas\": {\"material\": \"Tecido\", \"cor\": \"Vermelho\"}}]}}"
   ]
  },
  {
   "cell_type": "code",
   "execution_count": 30,
   "id": "5d0aa819-cac7-4306-8df8-39104e34cef0",
   "metadata": {},
   "outputs": [],
   "source": [
    "message = json.dumps(gerar_dado(), ensure_ascii=False)"
   ]
  },
  {
   "cell_type": "code",
   "execution_count": 40,
   "id": "63207003-b9a5-4c15-95c1-13775f62666c",
   "metadata": {},
   "outputs": [
    {
     "ename": "AssertionError",
     "evalue": "",
     "output_type": "error",
     "traceback": [
      "\u001b[31m---------------------------------------------------------------------------\u001b[39m",
      "\u001b[31mAssertionError\u001b[39m                            Traceback (most recent call last)",
      "\u001b[36mCell\u001b[39m\u001b[36m \u001b[39m\u001b[32mIn[40]\u001b[39m\u001b[32m, line 2\u001b[39m\n\u001b[32m      1\u001b[39m \u001b[38;5;66;03m#send_message(\"clients\",str(uuid4()),message)\u001b[39;00m\n\u001b[32m----> \u001b[39m\u001b[32m2\u001b[39m \u001b[43mproducer\u001b[49m\u001b[43m.\u001b[49m\u001b[43msend\u001b[49m\u001b[43m(\u001b[49m\u001b[33;43m'\u001b[39;49m\u001b[33;43mclients-topic\u001b[39;49m\u001b[33;43m'\u001b[39;49m\u001b[43m,\u001b[49m\u001b[43mkey\u001b[49m\u001b[43m=\u001b[49m\u001b[38;5;28;43mstr\u001b[39;49m\u001b[43m(\u001b[49m\u001b[43muuid4\u001b[49m\u001b[43m(\u001b[49m\u001b[43m)\u001b[49m\u001b[43m)\u001b[49m\u001b[43m,\u001b[49m\u001b[43m \u001b[49m\u001b[43mvalue\u001b[49m\u001b[43m=\u001b[49m\u001b[43mmessage\u001b[49m\u001b[43m.\u001b[49m\u001b[43mencode\u001b[49m\u001b[43m(\u001b[49m\u001b[33;43m'\u001b[39;49m\u001b[33;43mutf-8\u001b[39;49m\u001b[33;43m'\u001b[39;49m\u001b[43m)\u001b[49m\u001b[43m)\u001b[49m\n",
      "\u001b[36mFile \u001b[39m\u001b[32m~/.local/lib/python3.12/site-packages/kafka/producer/kafka.py:587\u001b[39m, in \u001b[36mKafkaProducer.send\u001b[39m\u001b[34m(self, topic, value, key, headers, partition, timestamp_ms)\u001b[39m\n\u001b[32m    581\u001b[39m key_bytes = \u001b[38;5;28mself\u001b[39m._serialize(\n\u001b[32m    582\u001b[39m     \u001b[38;5;28mself\u001b[39m.config[\u001b[33m'\u001b[39m\u001b[33mkey_serializer\u001b[39m\u001b[33m'\u001b[39m],\n\u001b[32m    583\u001b[39m     topic, key)\n\u001b[32m    584\u001b[39m value_bytes = \u001b[38;5;28mself\u001b[39m._serialize(\n\u001b[32m    585\u001b[39m     \u001b[38;5;28mself\u001b[39m.config[\u001b[33m'\u001b[39m\u001b[33mvalue_serializer\u001b[39m\u001b[33m'\u001b[39m],\n\u001b[32m    586\u001b[39m     topic, value)\n\u001b[32m--> \u001b[39m\u001b[32m587\u001b[39m \u001b[38;5;28;01massert\u001b[39;00m \u001b[38;5;28mtype\u001b[39m(key_bytes) \u001b[38;5;129;01min\u001b[39;00m (\u001b[38;5;28mbytes\u001b[39m, \u001b[38;5;28mbytearray\u001b[39m, \u001b[38;5;28mmemoryview\u001b[39m, \u001b[38;5;28mtype\u001b[39m(\u001b[38;5;28;01mNone\u001b[39;00m))\n\u001b[32m    588\u001b[39m \u001b[38;5;28;01massert\u001b[39;00m \u001b[38;5;28mtype\u001b[39m(value_bytes) \u001b[38;5;129;01min\u001b[39;00m (\u001b[38;5;28mbytes\u001b[39m, \u001b[38;5;28mbytearray\u001b[39m, \u001b[38;5;28mmemoryview\u001b[39m, \u001b[38;5;28mtype\u001b[39m(\u001b[38;5;28;01mNone\u001b[39;00m))\n\u001b[32m    590\u001b[39m partition = \u001b[38;5;28mself\u001b[39m._partition(topic, partition, key, value,\n\u001b[32m    591\u001b[39m                             key_bytes, value_bytes)\n",
      "\u001b[31mAssertionError\u001b[39m: "
     ]
    }
   ],
   "source": [
    "#send_message(\"clients\",str(uuid4()),message)\n",
    "producer.send('clients-topic',key=str(uuid4()), value=message.encode('utf-8'))"
   ]
  },
  {
   "cell_type": "code",
   "execution_count": 34,
   "id": "7c9ad859-1065-451a-84a4-dee2b57c8d3f",
   "metadata": {},
   "outputs": [
    {
     "data": {
      "text/plain": [
       "b'{\"id\": 181, \"nome\": \"Maria Cec\\xc3\\xadlia Cardoso\", \"endereco\": {\"rua\": \"Via de Mendes\", \"numero\": \"63\", \"cidade\": \"Silva\", \"estado\": \"AP\", \"localizacao\": {\"latitude\": -17.216319, \"longitude\": -57.813523}}, \"telefones\": [{\"tipo\": \"residencial\", \"numero\": \"+55 41 7635-2019\"}, {\"tipo\": \"celular\", \"numero\": \"+55 41 9 8475-2060\"}], \"comprasRecentes\": [{\"produto\": \"Notebook\", \"preco\": 4118.85, \"caracteristicas\": {\"marca\": \"Lenovo\", \"memoria\": \"8GB\", \"armazenamento\": \"256GB SSD\"}}, {\"produto\": \"Cadeira\", \"preco\": 749.77, \"caracteristicas\": {\"material\": \"Tecido\", \"cor\": \"Preto\"}}]}'"
      ]
     },
     "execution_count": 34,
     "metadata": {},
     "output_type": "execute_result"
    }
   ],
   "source": [
    "message.encode('utf-8')"
   ]
  }
 ],
 "metadata": {
  "kernelspec": {
   "display_name": "Python 3 (ipykernel)",
   "language": "python",
   "name": "python3"
  },
  "language_info": {
   "codemirror_mode": {
    "name": "ipython",
    "version": 3
   },
   "file_extension": ".py",
   "mimetype": "text/x-python",
   "name": "python",
   "nbconvert_exporter": "python",
   "pygments_lexer": "ipython3",
   "version": "3.12.10"
  }
 },
 "nbformat": 4,
 "nbformat_minor": 5
}
