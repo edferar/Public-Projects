{
 "cells": [
  {
   "cell_type": "code",
   "execution_count": null,
   "metadata": {},
   "outputs": [],
   "source": [
    "!python.exe -m pip install --upgrade pip\n",
    "!pip install kafka-python\n",
    "!pip install kafka-python-ng\n",
    "#apos a instalacao o Kernel devera ser reiniciado"
   ]
  },
  {
   "cell_type": "code",
   "execution_count": 1,
   "metadata": {},
   "outputs": [],
   "source": [
    "from kafka import KafkaConsumer\n",
    "import json\n",
    "\n",
    "# Configuração do consumidor\n",
    "consumer = KafkaConsumer('client-kafka-silver-topic',\n",
    "            group_id='test',\n",
    "            bootstrap_servers='wednesday-primary-cluster-kafka-bootstrap.kafka.svc:9092',\n",
    "            api_version=(3, 7, 0),\n",
    "            auto_offset_reset='latest',\n",
    ")\n"
   ]
  },
  {
   "cell_type": "code",
   "execution_count": null,
   "metadata": {},
   "outputs": [
    {
     "name": "stdout",
     "output_type": "stream",
     "text": [
      "2025-05-08 19:23:51.622730 \n",
      " Mensagem recebida: {\"eventdate\":\"2025-05-08 19:23:51.575231\",\"requestid\":\"a0e428c1-4d97-402e-8708-b0506f017fbe\",\"id\":680,\"tipo\":\"residencial\",\"numero\":\"+55 84 2944-7235\"}\n",
      "2025-05-08 19:23:51.625942 \n",
      " Mensagem recebida: {\"eventdate\":\"2025-05-08 19:23:51.575231\",\"requestid\":\"a0e428c1-4d97-402e-8708-b0506f017fbe\",\"id\":680,\"tipo\":\"celular\",\"numero\":\"+55 (021) 99582 2755\"}\n",
      "2025-05-08 19:32:02.152500 \n",
      " Mensagem recebida: {\"eventdate\":\"2025-05-08 19:32:01.713212\",\"requestid\":\"eb31f466-2024-4e6f-ae2d-f82089f2b318\",\"id\":177,\"tipo\":\"residencial\",\"numero\":\"+55 (071) 9409-1294\"}\n",
      "2025-05-08 19:32:02.156388 \n",
      " Mensagem recebida: {\"eventdate\":\"2025-05-08 19:32:01.713212\",\"requestid\":\"eb31f466-2024-4e6f-ae2d-f82089f2b318\",\"id\":177,\"tipo\":\"celular\",\"numero\":\"+55 (011) 92009-5237\"}\n",
      "2025-05-08 19:32:16.918772 \n",
      " Mensagem recebida: {\"eventdate\":\"2025-05-08 19:32:16.887832\",\"requestid\":\"ff4e6d63-5016-4def-9c4d-dfe85912a098\",\"id\":226,\"tipo\":\"residencial\",\"numero\":\"81 6490 1715\"}\n",
      "2025-05-08 19:32:16.920905 \n",
      " Mensagem recebida: {\"eventdate\":\"2025-05-08 19:32:16.887832\",\"requestid\":\"ff4e6d63-5016-4def-9c4d-dfe85912a098\",\"id\":226,\"tipo\":\"celular\",\"numero\":\"+55 (20) 95811 2393\"}\n",
      "2025-05-09 11:36:07.363275 \n",
      " Mensagem recebida: {\"eventdate\":\"2025-05-09 11:36:06.88012\",\"requestid\":\"d062d5a9-c1bd-47d0-873b-a0ad3da2dc48\",\"id\":680,\"tipo\":\"residencial\",\"numero\":\"+55 81 2106-6491\"}\n",
      "2025-05-09 11:36:07.381639 \n",
      " Mensagem recebida: {\"eventdate\":\"2025-05-09 11:36:06.88012\",\"requestid\":\"d062d5a9-c1bd-47d0-873b-a0ad3da2dc48\",\"id\":680,\"tipo\":\"celular\",\"numero\":\"+55 50 95496 4796\"}\n",
      "2025-05-09 12:15:00.544651 \n",
      " Mensagem recebida: {\"eventdate\":\"2025-05-09 12:15:00.384624\",\"requestid\":\"f83c6e43-5745-4f7b-afea-ae7f759fed1f\",\"id\":374,\"tipo\":\"residencial\",\"numero\":\"11 3460 7686\"}\n",
      "2025-05-09 12:15:00.549339 \n",
      " Mensagem recebida: {\"eventdate\":\"2025-05-09 12:15:00.384624\",\"requestid\":\"f83c6e43-5745-4f7b-afea-ae7f759fed1f\",\"id\":374,\"tipo\":\"celular\",\"numero\":\"+55 29 9 3874-6186\"}\n"
     ]
    }
   ],
   "source": [
    "from datetime import datetime\n",
    "# Consumir mensagens\n",
    "for message in consumer:\n",
    "    print(datetime.now(), \"\\n Mensagem recebida:\", message.value.decode('utf-8'))\n"
   ]
  },
  {
   "cell_type": "code",
   "execution_count": null,
   "metadata": {},
   "outputs": [],
   "source": [
    "f83c6e43-5745-4f7b-afea-ae7f759fed1f"
   ]
  }
 ],
 "metadata": {
  "kernelspec": {
   "display_name": "Python 3 (ipykernel)",
   "language": "python",
   "name": "python3"
  },
  "language_info": {
   "codemirror_mode": {
    "name": "ipython",
    "version": 3
   },
   "file_extension": ".py",
   "mimetype": "text/x-python",
   "name": "python",
   "nbconvert_exporter": "python",
   "pygments_lexer": "ipython3",
   "version": "3.12.10"
  }
 },
 "nbformat": 4,
 "nbformat_minor": 4
}
