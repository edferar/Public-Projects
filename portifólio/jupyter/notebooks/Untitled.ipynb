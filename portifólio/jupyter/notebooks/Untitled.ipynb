{
 "cells": [
  {
   "cell_type": "code",
   "execution_count": 2,
   "id": "7fbc1575-82b9-43ce-8139-93b3ea7b017b",
   "metadata": {},
   "outputs": [
    {
     "name": "stdout",
     "output_type": "stream",
     "text": [
      "Collecting findspark\n",
      "  Downloading findspark-2.0.1-py2.py3-none-any.whl.metadata (352 bytes)\n",
      "Downloading findspark-2.0.1-py2.py3-none-any.whl (4.4 kB)\n",
      "Installing collected packages: findspark\n",
      "Successfully installed findspark-2.0.1\n",
      "Note: you may need to restart the kernel to use updated packages.\n"
     ]
    }
   ],
   "source": [
    "pip install findspark"
   ]
  },
  {
   "cell_type": "code",
   "execution_count": 1,
   "id": "e9c82177-1acc-4fa7-8454-8e20a93783c0",
   "metadata": {},
   "outputs": [],
   "source": [
    "import os\n",
    "\n",
    "SPARK_HOME = 'C:/projects/spark/spark-3.3.1-bin-hadoop3/spark-3.3.1-bin-hadoop3/spark-3.3.1-bin-hadoop3'\n",
    "HADOOP_HOME = 'C:/projects/spark/spark-3.3.1-bin-hadoop3/spark-3.3.1-bin-hadoop3/spark-3.3.1-bin-hadoop3'\n",
    "\n",
    "import os\n",
    "\n",
    "# Set environment variables\n",
    "os.environ['AWS_ACCESS_KEY_ID'] = 'xWOjNG7eqpjdSQzZ'\n",
    "os.environ['AWS_SECRET_ACCESS_KEY'] = 'MpX6suRBQ0Kmo3fng583FWmmFK6URnEK'\n",
    "\n",
    "os.environ['SPARK_HOME'] = SPARK_HOME\n",
    "os.environ['HADOOP_HOME'] = HADOOP_HOME\n",
    "os.environ['path'] = f\"{os.environ['path']}{SPARK_HOME}\\\\bin;{HADOOP_HOME}\\\\bin;\""
   ]
  },
  {
   "cell_type": "code",
   "execution_count": 2,
   "id": "6199f1f3-03b1-483b-820c-16d114acb0aa",
   "metadata": {},
   "outputs": [],
   "source": [
    "import findspark\n",
    "findspark.init()"
   ]
  },
  {
   "cell_type": "code",
   "execution_count": 3,
   "id": "91e1d6f5-860e-47d3-aa2d-587a354a1d97",
   "metadata": {},
   "outputs": [],
   "source": [
    "from pyspark.sql import SparkSession\n",
    "\n",
    "# Create a Spark session\n",
    "spark = (\n",
    "    SparkSession.builder\n",
    "    .appName(\"S3 Read/Write Example\")\n",
    "    .config(\"fs.s3a.endpoint\", \"http://localhost:9000\")\n",
    "    .config(\"fs.s3a.path.style.access\", \"true\")\n",
    "    .config(\"fs.s3a.connection.ssl.enabled\", \"false\")\n",
    "    .config(\"fs.s3a.impl\", \"org.apache.hadoop.fs.s3a.S3AFileSystem\")\n",
    "    .getOrCreate())"
   ]
  },
  {
   "cell_type": "code",
   "execution_count": 4,
   "id": "6e17b1e6-1541-48aa-9ca8-ab7eb58b87a2",
   "metadata": {},
   "outputs": [],
   "source": [
    "from pyspark.sql.types import StructType, StructField, StringType, FloatType, IntegerType\n",
    "\n",
    "schema = StructType([\n",
    "    StructField(\"tconst\", StringType(), True),       # Title ID\n",
    "    StructField(\"averageRating\", FloatType(), True),  # Average rating\n",
    "    StructField(\"numVotes\", IntegerType(), True)      # Number of votes\n",
    "])"
   ]
  },
  {
   "cell_type": "code",
   "execution_count": 5,
   "id": "45c85280-7c38-4e16-b72f-ff5091dafe58",
   "metadata": {},
   "outputs": [],
   "source": [
    "\n",
    "# Set the S3 path\n",
    "s3_input_path = \"s3a://default/title.ratings.tsv\"\n",
    "s3_output_path = \"s3a://default/processed/title_ratings\"\n",
    "\n",
    "# Read CSV file from S3\n",
    "df = spark.read.csv(s3_input_path, header=True,sep='\\t', schema=schema)\n",
    "\n",
    "# Show the data\n",
    "#df.show()\n",
    "df.write.format('csv').mode('overwrite').save(s3_output_path)\n",
    "\n"
   ]
  },
  {
   "cell_type": "code",
   "execution_count": 6,
   "id": "4068e6db-d1b4-4453-a2ab-ba6b2e9eabe0",
   "metadata": {},
   "outputs": [],
   "source": [
    "\n",
    "# Stop the Spark session\n",
    "spark.stop()"
   ]
  }
 ],
 "metadata": {
  "kernelspec": {
   "display_name": "Python 3 (ipykernel)",
   "language": "python",
   "name": "python3"
  },
  "language_info": {
   "codemirror_mode": {
    "name": "ipython",
    "version": 3
   },
   "file_extension": ".py",
   "mimetype": "text/x-python",
   "name": "python",
   "nbconvert_exporter": "python",
   "pygments_lexer": "ipython3",
   "version": "3.12.10"
  }
 },
 "nbformat": 4,
 "nbformat_minor": 5
}
