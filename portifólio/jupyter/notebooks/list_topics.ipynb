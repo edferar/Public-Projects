{
 "cells": [
  {
   "cell_type": "code",
   "execution_count": 19,
   "id": "0e1e3ebb-a674-4e75-ac79-2839476c804c",
   "metadata": {},
   "outputs": [
    {
     "name": "stdout",
     "output_type": "stream",
     "text": [
      "Defaulting to user installation because normal site-packages is not writeable\n",
      "Requirement already satisfied: pip in /home/jovyan/.local/lib/python3.12/site-packages (25.1.1)\n",
      "Defaulting to user installation because normal site-packages is not writeable\n",
      "Requirement already satisfied: kafka-python in /home/jovyan/.local/lib/python3.12/site-packages (2.2.4)\n",
      "Defaulting to user installation because normal site-packages is not writeable\n",
      "Requirement already satisfied: kafka-python-ng in /home/jovyan/.local/lib/python3.12/site-packages (2.2.3)\n"
     ]
    }
   ],
   "source": [
    "!python3 -m pip install --upgrade pip\n",
    "!pip install kafka-python\n",
    "!pip install kafka-python-ng\n",
    "#apos a instalacao o Kernel devera ser reiniciado"
   ]
  },
  {
   "cell_type": "code",
   "execution_count": 8,
   "id": "34841cc7-7b1e-48d8-9a2f-7a3b223818de",
   "metadata": {},
   "outputs": [
    {
     "ename": "ValueError",
     "evalue": "invalid literal for int() with base 10: ''",
     "output_type": "error",
     "traceback": [
      "\u001b[31m---------------------------------------------------------------------------\u001b[39m",
      "\u001b[31mValueError\u001b[39m                                Traceback (most recent call last)",
      "\u001b[36mCell\u001b[39m\u001b[36m \u001b[39m\u001b[32mIn[8]\u001b[39m\u001b[32m, line 4\u001b[39m\n\u001b[32m      1\u001b[39m \u001b[38;5;28;01mfrom\u001b[39;00m\u001b[38;5;250m \u001b[39m\u001b[34;01mkafka\u001b[39;00m\u001b[38;5;250m \u001b[39m\u001b[38;5;28;01mimport\u001b[39;00m KafkaAdminClient\n\u001b[32m      3\u001b[39m \u001b[38;5;66;03m# Initialize the admin client\u001b[39;00m\n\u001b[32m----> \u001b[39m\u001b[32m4\u001b[39m admin_client = \u001b[43mKafkaAdminClient\u001b[49m\u001b[43m(\u001b[49m\u001b[43mbootstrap_servers\u001b[49m\u001b[43m=\u001b[49m\u001b[33;43m'\u001b[39;49m\u001b[33;43m172.19.0.1::9092\u001b[39;49m\u001b[33;43m'\u001b[39;49m\u001b[43m,\u001b[49m\u001b[43mapi_version\u001b[49m\u001b[43m=\u001b[49m\u001b[43m(\u001b[49m\u001b[32;43m3\u001b[39;49m\u001b[43m,\u001b[49m\u001b[43m \u001b[49m\u001b[32;43m7\u001b[39;49m\u001b[43m,\u001b[49m\u001b[43m \u001b[49m\u001b[32;43m0\u001b[39;49m\u001b[43m)\u001b[49m\u001b[43m)\u001b[49m\n\u001b[32m      6\u001b[39m \u001b[38;5;66;03m# List topics\u001b[39;00m\n\u001b[32m      7\u001b[39m topics = admin_client.list_topics()\n",
      "\u001b[36mFile \u001b[39m\u001b[32m~/.local/lib/python3.12/site-packages/kafka/admin/client.py:212\u001b[39m, in \u001b[36mKafkaAdminClient.__init__\u001b[39m\u001b[34m(self, **configs)\u001b[39m\n\u001b[32m    205\u001b[39m \u001b[38;5;28mself\u001b[39m._metrics = Metrics(metric_config, reporters)\n\u001b[32m    207\u001b[39m \u001b[38;5;28mself\u001b[39m._client = \u001b[38;5;28mself\u001b[39m.config[\u001b[33m'\u001b[39m\u001b[33mkafka_client\u001b[39m\u001b[33m'\u001b[39m](\n\u001b[32m    208\u001b[39m     metrics=\u001b[38;5;28mself\u001b[39m._metrics,\n\u001b[32m    209\u001b[39m     metric_group_prefix=\u001b[33m'\u001b[39m\u001b[33madmin\u001b[39m\u001b[33m'\u001b[39m,\n\u001b[32m    210\u001b[39m     **\u001b[38;5;28mself\u001b[39m.config\n\u001b[32m    211\u001b[39m )\n\u001b[32m--> \u001b[39m\u001b[32m212\u001b[39m \u001b[38;5;28;43mself\u001b[39;49m\u001b[43m.\u001b[49m\u001b[43m_client\u001b[49m\u001b[43m.\u001b[49m\u001b[43mcheck_version\u001b[49m\u001b[43m(\u001b[49m\u001b[43mtimeout\u001b[49m\u001b[43m=\u001b[49m\u001b[43m(\u001b[49m\u001b[38;5;28;43mself\u001b[39;49m\u001b[43m.\u001b[49m\u001b[43mconfig\u001b[49m\u001b[43m[\u001b[49m\u001b[33;43m'\u001b[39;49m\u001b[33;43mapi_version_auto_timeout_ms\u001b[39;49m\u001b[33;43m'\u001b[39;49m\u001b[43m]\u001b[49m\u001b[43m \u001b[49m\u001b[43m/\u001b[49m\u001b[43m \u001b[49m\u001b[32;43m1000\u001b[39;49m\u001b[43m)\u001b[49m\u001b[43m)\u001b[49m\n\u001b[32m    214\u001b[39m \u001b[38;5;66;03m# Get auto-discovered version from client if necessary\u001b[39;00m\n\u001b[32m    215\u001b[39m \u001b[38;5;28;01mif\u001b[39;00m \u001b[38;5;28mself\u001b[39m.config[\u001b[33m'\u001b[39m\u001b[33mapi_version\u001b[39m\u001b[33m'\u001b[39m] \u001b[38;5;129;01mis\u001b[39;00m \u001b[38;5;28;01mNone\u001b[39;00m:\n",
      "\u001b[36mFile \u001b[39m\u001b[32m~/.local/lib/python3.12/site-packages/kafka/client_async.py:903\u001b[39m, in \u001b[36mKafkaClient.check_version\u001b[39m\u001b[34m(self, node_id, timeout, strict)\u001b[39m\n\u001b[32m    901\u001b[39m     \u001b[38;5;28mself\u001b[39m._lock.release()\n\u001b[32m    902\u001b[39m     \u001b[38;5;28;01mraise\u001b[39;00m Errors.NoBrokersAvailable()\n\u001b[32m--> \u001b[39m\u001b[32m903\u001b[39m \u001b[38;5;28;43mself\u001b[39;49m\u001b[43m.\u001b[49m\u001b[43m_maybe_connect\u001b[49m\u001b[43m(\u001b[49m\u001b[43mtry_node\u001b[49m\u001b[43m)\u001b[49m\n\u001b[32m    904\u001b[39m conn = \u001b[38;5;28mself\u001b[39m._conns[try_node]\n\u001b[32m    906\u001b[39m \u001b[38;5;66;03m# We will intentionally cause socket failures\u001b[39;00m\n\u001b[32m    907\u001b[39m \u001b[38;5;66;03m# These should not trigger metadata refresh\u001b[39;00m\n",
      "\u001b[36mFile \u001b[39m\u001b[32m~/.local/lib/python3.12/site-packages/kafka/client_async.py:375\u001b[39m, in \u001b[36mKafkaClient._maybe_connect\u001b[39m\u001b[34m(self, node_id)\u001b[39m\n\u001b[32m    371\u001b[39m \u001b[38;5;28;01massert\u001b[39;00m broker, \u001b[33m'\u001b[39m\u001b[33mBroker id \u001b[39m\u001b[38;5;132;01m{}\u001b[39;00m\u001b[33m not in current metadata\u001b[39m\u001b[33m'\u001b[39m.format(node_id)\n\u001b[32m    373\u001b[39m log.debug(\u001b[33m\"\u001b[39m\u001b[33mInitiating connection to node \u001b[39m\u001b[38;5;132;01m%s\u001b[39;00m\u001b[33m at \u001b[39m\u001b[38;5;132;01m%s\u001b[39;00m\u001b[33m:\u001b[39m\u001b[38;5;132;01m%s\u001b[39;00m\u001b[33m\"\u001b[39m,\n\u001b[32m    374\u001b[39m           node_id, broker.host, broker.port)\n\u001b[32m--> \u001b[39m\u001b[32m375\u001b[39m host, port, afi = \u001b[43mget_ip_port_afi\u001b[49m\u001b[43m(\u001b[49m\u001b[43mbroker\u001b[49m\u001b[43m.\u001b[49m\u001b[43mhost\u001b[49m\u001b[43m)\u001b[49m\n\u001b[32m    376\u001b[39m cb = WeakMethod(\u001b[38;5;28mself\u001b[39m._conn_state_change)\n\u001b[32m    377\u001b[39m conn = BrokerConnection(host, broker.port, afi,\n\u001b[32m    378\u001b[39m                         state_change_callback=cb,\n\u001b[32m    379\u001b[39m                         node_id=node_id,\n\u001b[32m    380\u001b[39m                         **\u001b[38;5;28mself\u001b[39m.config)\n",
      "\u001b[36mFile \u001b[39m\u001b[32m~/.local/lib/python3.12/site-packages/kafka/conn.py:1227\u001b[39m, in \u001b[36mget_ip_port_afi\u001b[39m\u001b[34m(host_and_port_str)\u001b[39m\n\u001b[32m   1225\u001b[39m     \u001b[38;5;28;01mpass\u001b[39;00m\n\u001b[32m   1226\u001b[39m host, port = host_and_port_str.rsplit(\u001b[33m'\u001b[39m\u001b[33m:\u001b[39m\u001b[33m'\u001b[39m, \u001b[32m1\u001b[39m)\n\u001b[32m-> \u001b[39m\u001b[32m1227\u001b[39m port = \u001b[38;5;28;43mint\u001b[39;49m\u001b[43m(\u001b[49m\u001b[43mport\u001b[49m\u001b[43m)\u001b[49m\n\u001b[32m   1229\u001b[39m af = _address_family(host)\n\u001b[32m   1230\u001b[39m \u001b[38;5;28;01mreturn\u001b[39;00m host, port, af\n",
      "\u001b[31mValueError\u001b[39m: invalid literal for int() with base 10: ''"
     ]
    }
   ],
   "source": [
    "from kafka import KafkaAdminClient\n",
    "\n",
    "# Initialize the admin client\n",
    "admin_client = KafkaAdminClient(bootstrap_servers='172.19.0.1::9092',api_version=(3, 7, 0))\n",
    "\n",
    "# List topics\n",
    "topics = admin_client.list_topics()\n",
    "print(\"Kafka Topics:\")\n",
    "for topic in topics:\n",
    "    print(topic)\n",
    "\n",
    "# Close the admin client\n",
    "admin_client.close()\n"
   ]
  },
  {
   "cell_type": "code",
   "execution_count": null,
   "id": "624492e9-8278-4589-b590-5478f0bb10ae",
   "metadata": {},
   "outputs": [],
   "source": []
  }
 ],
 "metadata": {
  "kernelspec": {
   "display_name": "Python 3 (ipykernel)",
   "language": "python",
   "name": "python3"
  },
  "language_info": {
   "codemirror_mode": {
    "name": "ipython",
    "version": 3
   },
   "file_extension": ".py",
   "mimetype": "text/x-python",
   "name": "python",
   "nbconvert_exporter": "python",
   "pygments_lexer": "ipython3",
   "version": "3.12.10"
  }
 },
 "nbformat": 4,
 "nbformat_minor": 5
}
