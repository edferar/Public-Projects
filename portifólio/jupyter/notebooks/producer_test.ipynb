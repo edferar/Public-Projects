{
 "cells": [
  {
   "cell_type": "code",
   "execution_count": 5,
   "metadata": {},
   "outputs": [
    {
     "name": "stdout",
     "output_type": "stream",
     "text": [
      "Requirement already satisfied: pip in c:\\users\\edferar\\appdata\\local\\programs\\python\\python312\\lib\\site-packages (24.1.2)\n",
      "Collecting pip\n",
      "  Downloading pip-24.2-py3-none-any.whl.metadata (3.6 kB)\n",
      "Downloading pip-24.2-py3-none-any.whl (1.8 MB)\n",
      "   ---------------------------------------- 0.0/1.8 MB ? eta -:--:--\n",
      "   ----------- ---------------------------- 0.5/1.8 MB 11.1 MB/s eta 0:00:01\n",
      "   ---------------------------------------  1.8/1.8 MB 19.2 MB/s eta 0:00:01\n",
      "   ---------------------------------------- 1.8/1.8 MB 16.4 MB/s eta 0:00:00\n",
      "Installing collected packages: pip\n",
      "  Attempting uninstall: pip\n",
      "    Found existing installation: pip 24.1.2\n",
      "    Uninstalling pip-24.1.2:\n",
      "      Successfully uninstalled pip-24.1.2\n",
      "Successfully installed pip-24.2\n",
      "Requirement already satisfied: kafka-python in c:\\users\\edferar\\appdata\\local\\programs\\python\\python312\\lib\\site-packages (2.0.2)\n"
     ]
    }
   ],
   "source": [
    "!python.exe -m pip install --upgrade pip\n",
    "!pip install kafka-python\n",
    "!pip install kafka-python-ng\n",
    "#apos a instalacao o Kernel devera ser reiniciado"
   ]
  },
  {
   "cell_type": "code",
   "execution_count": 1,
   "metadata": {},
   "outputs": [],
   "source": [
    "from kafka import KafkaProducer\n",
    "import json\n",
    "\n",
    "# Configuração do produtor\n",
    "producer = KafkaProducer(\n",
    "    bootstrap_servers='wednesday-primary-cluster-kafka-bootstrap.kafka.svc:9092',  \n",
    "    api_version=(3, 7, 0),\n",
    ")\n"
   ]
  },
  {
   "cell_type": "code",
   "execution_count": 1,
   "metadata": {},
   "outputs": [
    {
     "ename": "NameError",
     "evalue": "name 'producer' is not defined",
     "output_type": "error",
     "traceback": [
      "\u001b[31m---------------------------------------------------------------------------\u001b[39m",
      "\u001b[31mNameError\u001b[39m                                 Traceback (most recent call last)",
      "\u001b[36mCell\u001b[39m\u001b[36m \u001b[39m\u001b[32mIn[1]\u001b[39m\u001b[32m, line 7\u001b[39m\n\u001b[32m      4\u001b[39m \u001b[38;5;28;01mfor\u001b[39;00m i \u001b[38;5;129;01min\u001b[39;00m \u001b[38;5;28mrange\u001b[39m(\u001b[32m10\u001b[39m):\n\u001b[32m      5\u001b[39m     \u001b[38;5;66;03m# Produzir uma mensagem\u001b[39;00m\n\u001b[32m      6\u001b[39m     message = \u001b[33mf\u001b[39m\u001b[33m'\u001b[39m\u001b[33mvalue is \u001b[39m\u001b[38;5;132;01m{\u001b[39;00mi\u001b[38;5;132;01m}\u001b[39;00m\u001b[33m'\u001b[39m\n\u001b[32m----> \u001b[39m\u001b[32m7\u001b[39m     \u001b[43mproducer\u001b[49m.send(\u001b[33m'\u001b[39m\u001b[33mtest-kafka-topic-output\u001b[39m\u001b[33m'\u001b[39m, value=message.encode(\u001b[33m'\u001b[39m\u001b[33mutf-8\u001b[39m\u001b[33m'\u001b[39m))\n\u001b[32m      8\u001b[39m     \u001b[38;5;28mprint\u001b[39m(\u001b[33m\"\u001b[39m\u001b[33mMensagem enviada:\u001b[39m\u001b[33m\"\u001b[39m, message)\n\u001b[32m      9\u001b[39m     time.sleep(\u001b[32m5\u001b[39m)\n",
      "\u001b[31mNameError\u001b[39m: name 'producer' is not defined"
     ]
    }
   ],
   "source": [
    "import time\n",
    "\n",
    "\n",
    "for i in range(10):\n",
    "    # Produzir uma mensagem\n",
    "    message = f'value is {i}'\n",
    "    producer.send('test-topic', value=message.encode('utf-8'))\n",
    "    print(\"Mensagem enviada:\", message)\n",
    "    time.sleep(5)\n",
    "producer.flush() "
   ]
  },
  {
   "cell_type": "code",
   "execution_count": null,
   "metadata": {},
   "outputs": [],
   "source": []
  }
 ],
 "metadata": {
  "kernelspec": {
   "display_name": "Python 3 (ipykernel)",
   "language": "python",
   "name": "python3"
  },
  "language_info": {
   "codemirror_mode": {
    "name": "ipython",
    "version": 3
   },
   "file_extension": ".py",
   "mimetype": "text/x-python",
   "name": "python",
   "nbconvert_exporter": "python",
   "pygments_lexer": "ipython3",
   "version": "3.12.10"
  }
 },
 "nbformat": 4,
 "nbformat_minor": 4
}
