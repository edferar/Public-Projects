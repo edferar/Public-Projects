{
 "cells": [
  {
   "cell_type": "code",
   "execution_count": 1,
   "id": "202d256e-1ad8-4c33-ab8b-4a0e14450e21",
   "metadata": {},
   "outputs": [],
   "source": [
    "from kafka import KafkaConsumer\n",
    "import json\n",
    "\n",
    "# Configuração do consumidor\n",
    "consumer = KafkaConsumer('client-kafka-bronze-topic',\n",
    "            group_id='test',\n",
    "            bootstrap_servers='wednesday-primary-cluster-kafka-bootstrap.kafka.svc:9092',\n",
    "            api_version=(3, 7, 0),\n",
    "            auto_offset_reset='latest',\n",
    ")\n"
   ]
  },
  {
   "cell_type": "code",
   "execution_count": null,
   "id": "0fc7a825-f916-4888-b3c5-cd0681ba2e45",
   "metadata": {},
   "outputs": [
    {
     "name": "stdout",
     "output_type": "stream",
     "text": [
      "2025-05-09 12:15:00.508920 \n",
      " Mensagem recebida: {\"eventdate\":\"2025-05-09 12:15:00.384624\",\"requestid\":\"f83c6e43-5745-4f7b-afea-ae7f759fed1f\",\"data_id\":374,\"data_nome\":\"Davi Miguel Azevedo\",\"data_endereco_rua\":\"Ladeira de das Neves\",\"data_endereco_numero\":\"542\",\"data_endereco_cidade\":\"Lima de da Mota\",\"data_endereco_estado\":\"DF\",\"data_endereco_localizacao_latitude\":54.829021,\"data_endereco_localizacao_longitude\":95.175961,\"data_telefones\":[{\"tipo\":\"residencial\",\"numero\":\"11 3460 7686\"},{\"tipo\":\"celular\",\"numero\":\"+55 29 9 3874-6186\"}],\"data_comprasrecentes\":[{\"produto\":\"Notebook\",\"preco\":3014.19,\"caracteristicas\":{\"marca\":\"Lenovo\",\"memoria\":\"16GB\",\"armazenamento\":\"512GB SSD\"}},{\"produto\":\"Cadeira\",\"preco\":1193.74,\"caracteristicas\":{\"cor\":\"Preto\",\"material\":\"Couro sintético\"}}]}\n"
     ]
    }
   ],
   "source": [
    "from datetime import datetime\n",
    "# Consumir mensagens\n",
    "for message in consumer:\n",
    "    print(datetime.now(), \"\\n Mensagem recebida:\", message.value.decode('utf-8'))\n"
   ]
  },
  {
   "cell_type": "code",
   "execution_count": null,
   "id": "4d63dae4-b24f-4cdf-bc68-2baea13e398b",
   "metadata": {},
   "outputs": [],
   "source": []
  }
 ],
 "metadata": {
  "kernelspec": {
   "display_name": "Python 3 (ipykernel)",
   "language": "python",
   "name": "python3"
  },
  "language_info": {
   "codemirror_mode": {
    "name": "ipython",
    "version": 3
   },
   "file_extension": ".py",
   "mimetype": "text/x-python",
   "name": "python",
   "nbconvert_exporter": "python",
   "pygments_lexer": "ipython3",
   "version": "3.12.10"
  }
 },
 "nbformat": 4,
 "nbformat_minor": 5
}
