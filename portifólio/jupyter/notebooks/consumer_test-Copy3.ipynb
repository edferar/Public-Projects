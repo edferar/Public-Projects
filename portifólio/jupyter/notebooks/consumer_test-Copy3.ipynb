{
 "cells": [
  {
   "cell_type": "code",
   "execution_count": null,
   "metadata": {},
   "outputs": [],
   "source": [
    "!python.exe -m pip install --upgrade pip\n",
    "!pip install kafka-python\n",
    "!pip install kafka-python-ng\n",
    "#apos a instalacao o Kernel devera ser reiniciado"
   ]
  },
  {
   "cell_type": "code",
   "execution_count": 1,
   "metadata": {},
   "outputs": [],
   "source": [
    "from kafka import KafkaConsumer\n",
    "import json\n",
    "\n",
    "# Configuração do consumidor\n",
    "consumer = KafkaConsumer('client-kafka-silver-topic',\n",
    "            group_id='test',\n",
    "            bootstrap_servers='wednesday-primary-cluster-kafka-bootstrap.kafka.svc:9092',\n",
    "            api_version=(3, 7, 0),\n",
    "            auto_offset_reset='latest',\n",
    ")\n"
   ]
  },
  {
   "cell_type": "code",
   "execution_count": null,
   "metadata": {},
   "outputs": [
    {
     "name": "stdout",
     "output_type": "stream",
     "text": [
      "2025-05-08 19:23:51.622730 \n",
      " Mensagem recebida: {\"eventdate\":\"2025-05-08 19:23:51.575231\",\"requestid\":\"a0e428c1-4d97-402e-8708-b0506f017fbe\",\"id\":680,\"tipo\":\"residencial\",\"numero\":\"+55 84 2944-7235\"}\n",
      "2025-05-08 19:23:51.625942 \n",
      " Mensagem recebida: {\"eventdate\":\"2025-05-08 19:23:51.575231\",\"requestid\":\"a0e428c1-4d97-402e-8708-b0506f017fbe\",\"id\":680,\"tipo\":\"celular\",\"numero\":\"+55 (021) 99582 2755\"}\n"
     ]
    }
   ],
   "source": [
    "from datetime import datetime\n",
    "# Consumir mensagens\n",
    "for message in consumer:\n",
    "    print(datetime.now(), \"\\n Mensagem recebida:\", message.value.decode('utf-8'))\n"
   ]
  },
  {
   "cell_type": "code",
   "execution_count": null,
   "metadata": {},
   "outputs": [],
   "source": [
    "a0e428c1-4d97-402e-8708-b0506f017fbe"
   ]
  }
 ],
 "metadata": {
  "kernelspec": {
   "display_name": "Python 3 (ipykernel)",
   "language": "python",
   "name": "python3"
  },
  "language_info": {
   "codemirror_mode": {
    "name": "ipython",
    "version": 3
   },
   "file_extension": ".py",
   "mimetype": "text/x-python",
   "name": "python",
   "nbconvert_exporter": "python",
   "pygments_lexer": "ipython3",
   "version": "3.12.10"
  }
 },
 "nbformat": 4,
 "nbformat_minor": 4
}
