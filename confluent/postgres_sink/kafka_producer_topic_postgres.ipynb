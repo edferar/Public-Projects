{
 "cells": [
  {
   "cell_type": "code",
   "execution_count": 21,
   "metadata": {},
   "outputs": [],
   "source": [
    "#!/usr/bin/env python\n",
    "\n",
    "from random import choice\n",
    "from confluent_kafka import Producer\n",
    "from confluent_kafka.serialization import StringSerializer, SerializationContext, MessageField\n",
    "from confluent_kafka.schema_registry.avro import AvroSerializer\n",
    "from confluent_kafka.schema_registry import SchemaRegistryClient\n",
    "\n",
    "\n",
    "\n",
    "config = {\n",
    "    'bootstrap.servers': 'pkc-921jm.us-east-2.aws.confluent.cloud:9092',\n",
    "    'sasl.username':     'JGHMRINQ3BUAN42H',\n",
    "    'sasl.password':     'sOqraI6DVErzvSd3AV2t+TsprixcHW4qv42FRJw8c9j4+vsiUqfII5Xr+YlR2zzG',\n",
    "    'security.protocol': 'SASL_SSL',\n",
    "    'sasl.mechanisms':   'PLAIN',\n",
    "    'acks':              'all'\n",
    "}\n",
    "\n",
    "# Create Producer instance\n",
    "producer = Producer(config)\n",
    "topic = 'postgre_sink_test'\n",
    "\n",
    "\n",
    "scr_client = SchemaRegistryClient({'url': 'https://psrc-57o65q.us-west2.gcp.confluent.cloud',\n",
    "                            'basic.auth.user.info': f\"PCPLW5LBTZIBC464:ixJNPatfkL1wH0+RXhLMZ3MVJ2nhmE1yf5YiIkoz//ab1RPcgh0TueDgHK/Qjc+l\"\n",
    "                            })\n"
   ]
  },
  {
   "cell_type": "code",
   "execution_count": 17,
   "metadata": {},
   "outputs": [],
   "source": [
    "def convert_to_dict(message,ctx):\n",
    "    return dict(message)"
   ]
  },
  {
   "cell_type": "code",
   "execution_count": 26,
   "metadata": {},
   "outputs": [],
   "source": [
    "schema_str = scr_client.get_schema(100002).schema_str\n",
    "avro_serializer = AvroSerializer(scr_client,\n",
    "                                     schema_str,\n",
    "                                     convert_to_dict)\n",
    "\n",
    "string_serializer = StringSerializer('utf_8')\n"
   ]
  },
  {
   "cell_type": "code",
   "execution_count": 7,
   "metadata": {},
   "outputs": [],
   "source": [
    "\n",
    "def delivery_callback(err, msg):\n",
    "    if err is not None:\n",
    "        print(\"Delivery failed for User record {}: {}\".format(msg.key(), err))\n",
    "        return\n",
    "    print('User record {} successfully produced to {} [{}] at offset {}'.format(\n",
    "        msg.key(), msg.topic(), msg.partition(), msg.offset()))"
   ]
  },
  {
   "cell_type": "code",
   "execution_count": 29,
   "metadata": {},
   "outputs": [],
   "source": [
    "import json\n",
    "from uuid import uuid4\n",
    "from faker import Faker\n",
    "import random\n",
    "\n",
    "def generate_fake_data():\n",
    "    fake = Faker()\n",
    "    data = {\n",
    "        'user_id': str(uuid4()),\n",
    "        'name': fake.name(),\n",
    "        'age': random.randint(18,45),\n",
    "        'team': fake.job(),\n",
    "    }\n",
    "    return data\n"
   ]
  },
  {
   "cell_type": "code",
   "execution_count": 45,
   "metadata": {},
   "outputs": [
    {
     "name": "stdout",
     "output_type": "stream",
     "text": [
      "User record b'0c46b6a2-e0e3-46bb-9ceb-554ace47b9cc' successfully produced to postgre_sink_test [2] at offset 5\n",
      "User record b'c25412bf-6c3c-477d-9a34-f2453e89737e' successfully produced to postgre_sink_test [3] at offset 5\n",
      "User record b'4209ef18-ca87-4b63-b9ff-857b74562540' successfully produced to postgre_sink_test [4] at offset 7\n",
      "User record b'bf3b6c0f-ae71-4197-a98c-14f3e8b62fea' successfully produced to postgre_sink_test [4] at offset 8\n",
      "User record b'3797ecd8-51bf-4e08-bc74-7b9195024500' successfully produced to postgre_sink_test [3] at offset 6\n",
      "User record b'c46a07f1-0161-4fc4-9a59-646898f4c425' successfully produced to postgre_sink_test [3] at offset 7\n",
      "User record b'0403cbe3-9d54-4e0f-aeb7-4e88a9981247' successfully produced to postgre_sink_test [4] at offset 9\n",
      "User record b'a0f90743-1bd0-4e7c-b865-40899ca275d3' successfully produced to postgre_sink_test [2] at offset 6\n",
      "User record b'29a4e6b9-8ad7-4730-bbb2-1d050586c4dd' successfully produced to postgre_sink_test [5] at offset 9\n",
      "User record b'bbbca7a9-401a-43e3-9681-cfcb774db691' successfully produced to postgre_sink_test [0] at offset 6\n"
     ]
    }
   ],
   "source": [
    "\n",
    "from uuid import uuid4\n",
    "\n",
    "for i in range(10):\n",
    "    message  = generate_fake_data()\n",
    "    producer.produce(topic=topic,\n",
    "                                key=string_serializer(str(uuid4())),\n",
    "                                value=avro_serializer(message, SerializationContext(topic, MessageField.VALUE)),\n",
    "                                on_delivery=delivery_callback)\n",
    "    producer.poll(10000)\n",
    "    producer.flush()\n"
   ]
  },
  {
   "cell_type": "code",
   "execution_count": 43,
   "metadata": {},
   "outputs": [],
   "source": [
    "message = {'user_id': '3fe4a16b-40ad-4894-9e5b-5ae51b3c71e7',\n",
    " 'name': 'Erin Salazar',\n",
    " 'age': 32,\n",
    " 'team': 'Medical illustrator'}\n",
    "producer.produce(topic=topic,\n",
    "                                key=string_serializer(str(uuid4())),\n",
    "                                value=avro_serializer(message, SerializationContext(topic, MessageField.VALUE)),\n",
    "                                on_delivery=delivery_callback)"
   ]
  },
  {
   "cell_type": "code",
   "execution_count": 41,
   "metadata": {},
   "outputs": [
    {
     "data": {
      "text/plain": [
       "{'user_id': '17b7ae44-e8d8-480d-96c8-c92a59bf111d',\n",
       " 'name': 'Monique Hardin',\n",
       " 'age': 20,\n",
       " 'team': 'Music tutor'}"
      ]
     },
     "execution_count": 41,
     "metadata": {},
     "output_type": "execute_result"
    }
   ],
   "source": [
    "message"
   ]
  },
  {
   "cell_type": "code",
   "execution_count": null,
   "metadata": {},
   "outputs": [],
   "source": []
  }
 ],
 "metadata": {
  "kernelspec": {
   "display_name": "env",
   "language": "python",
   "name": "python3"
  },
  "language_info": {
   "codemirror_mode": {
    "name": "ipython",
    "version": 3
   },
   "file_extension": ".py",
   "mimetype": "text/x-python",
   "name": "python",
   "nbconvert_exporter": "python",
   "pygments_lexer": "ipython3",
   "version": "3.12.4"
  }
 },
 "nbformat": 4,
 "nbformat_minor": 2
}
