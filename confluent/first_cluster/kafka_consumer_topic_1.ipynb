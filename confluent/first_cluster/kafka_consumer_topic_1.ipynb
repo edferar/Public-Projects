{
 "cells": [
  {
   "cell_type": "code",
   "execution_count": 1,
   "metadata": {},
   "outputs": [],
   "source": [
    "#!/usr/bin/env python\n",
    "\n",
    "from random import choice\n",
    "from confluent_kafka import Consumer\n",
    "\n",
    "# if __name__ == '__main__':\n",
    "\n",
    "config = config = {\n",
    "        'bootstrap.servers': 'pkc-12576z.us-west2.gcp.confluent.cloud:9092',\n",
    "        'sasl.username':     '',\n",
    "        'sasl.password':     '',\n",
    "        'security.protocol': 'SASL_SSL',\n",
    "        'sasl.mechanisms':   'PLAIN',\n",
    "        'group.id':          'kafka-python-getting-started',\n",
    "        'auto.offset.reset': 'earliest'\n",
    "    }\n",
    "\n",
    "# Create Producer instance\n",
    "consumer = Consumer(config)\n"
   ]
  },
  {
   "cell_type": "code",
   "execution_count": 2,
   "metadata": {},
   "outputs": [
    {
     "name": "stdout",
     "output_type": "stream",
     "text": [
      "Consumed event from topic topic_1: key = edney        value = kafka-test  \n",
      "Consumed event from topic topic_1: key = edney        value = kafka-test  \n"
     ]
    }
   ],
   "source": [
    "\n",
    "# Subscribe to topic\n",
    "topic = \"topic_1\"\n",
    "consumer.subscribe([topic])\n",
    "\n",
    "# Poll for new messages from Kafka and print them.\n",
    "try:\n",
    "    while True:\n",
    "        msg = consumer.poll(1.0)\n",
    "        if msg is None:\n",
    "            # Initial message consumption may take up to\n",
    "            # `session.timeout.ms` for the consumer group to\n",
    "            # rebalance and start consuming\n",
    "            #print(\"Waiting...\")\n",
    "            pass\n",
    "        elif msg.error():\n",
    "            print(\"ERROR: %s\".format(msg.error()))\n",
    "        else:\n",
    "            # Extract the (optional) key and value, and print.\n",
    "            print(\"Consumed event from topic {topic}: key = {key:12} value = {value:12}\".format(\n",
    "                topic=msg.topic(), key=msg.key().decode('utf-8'), value=msg.value().decode('utf-8')))\n",
    "except KeyboardInterrupt:\n",
    "    pass\n",
    "finally:\n",
    "    # Leave group and commit final offsets\n",
    "    consumer.close()"
   ]
  },
  {
   "cell_type": "code",
   "execution_count": null,
   "metadata": {},
   "outputs": [],
   "source": []
  }
 ],
 "metadata": {
  "kernelspec": {
   "display_name": "env",
   "language": "python",
   "name": "python3"
  },
  "language_info": {
   "codemirror_mode": {
    "name": "ipython",
    "version": 3
   },
   "file_extension": ".py",
   "mimetype": "text/x-python",
   "name": "python",
   "nbconvert_exporter": "python",
   "pygments_lexer": "ipython3",
   "version": "3.12.4"
  }
 },
 "nbformat": 4,
 "nbformat_minor": 2
}
