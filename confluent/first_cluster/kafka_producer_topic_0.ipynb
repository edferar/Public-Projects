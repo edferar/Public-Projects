{
 "cells": [
  {
   "cell_type": "code",
   "execution_count": 1,
   "metadata": {},
   "outputs": [],
   "source": [
    "#!/usr/bin/env python\n",
    "\n",
    "from random import choice\n",
    "from confluent_kafka import Producer\n",
    "from confluent_kafka.serialization import StringSerializer, SerializationContext, MessageField\n",
    "from confluent_kafka.schema_registry import SchemaRegistryClient\n",
    "from confluent_kafka.schema_registry.avro import AvroSerializer\n",
    "from config import GetProducerConfig\n",
    "\n",
    "# if __name__ == '__main__':\n",
    "\n",
    "config = GetProducerConfig()\n",
    "#config['schema.registry.url'] = \"http://pkc-12576z.us-west2.gcp.confluent.cloud:9092/schemas/ids/100001\"\n",
    "# Create Producer instance\n",
    "producer = Producer(config)\n"
   ]
  },
  {
   "cell_type": "code",
   "execution_count": 68,
   "metadata": {},
   "outputs": [],
   "source": [
    "def convert_(message,ctx):\n",
    "    return dict(\n",
    "        idade=message.idade,\n",
    "        name=message.name,\n",
    "        team=message.team)\n",
    "schema_registry_conf = {'url': \"https://@psrc-57o65q.us-west2.gcp.confluent.cloud\",\n",
    "                        #'basic.auth.credentials.source': 'USER_INFO',\n",
    "                        'basic.auth.user.info': \"IBL6S7JRHBD2CNKV:hhaEwDXbCZM7K8G3dl5VeXO7G9DJoG5AoaiT1/msX/s0oefT1CJVrajruFdM3jEA\"\n",
    "                        }\n",
    "schema_registry_client = SchemaRegistryClient(schema_registry_conf)\n",
    "schema = schema_registry_client.get_schema(100001)\n",
    "avro_serializer = AvroSerializer(schema_registry_client,\n",
    "                                     schema.schema_str,\n",
    "                                     convert_)\n",
    "string_serializer = StringSerializer('utf_8')\n"
   ]
  },
  {
   "cell_type": "code",
   "execution_count": null,
   "metadata": {},
   "outputs": [],
   "source": []
  },
  {
   "cell_type": "code",
   "execution_count": null,
   "metadata": {},
   "outputs": [],
   "source": []
  },
  {
   "cell_type": "code",
   "execution_count": 69,
   "metadata": {},
   "outputs": [],
   "source": [
    "import requests\n",
    "def delivery_callback(err, msg):\n",
    "    if err is not None:\n",
    "        print(\"Delivery failed for User record {}: {}\".format(msg.key(), err))\n",
    "        return\n",
    "    print('User record {} successfully produced to {} [{}] at offset {}'.format(\n",
    "        msg.key(), msg.topic(), msg.partition(), msg.offset()))\n",
    "\n",
    "\n",
    "\n",
    "topic = \"topic_0\"\n",
    "count = 0\n"
   ]
  },
  {
   "cell_type": "code",
   "execution_count": 70,
   "metadata": {},
   "outputs": [],
   "source": [
    "class Message(object):\n",
    "\n",
    "    def __init__(self, idade, name, team):\n",
    "        self.name = name\n",
    "        self.idade = idade\n",
    "        self.team = team\n"
   ]
  },
  {
   "cell_type": "code",
   "execution_count": 75,
   "metadata": {},
   "outputs": [
    {
     "name": "stdout",
     "output_type": "stream",
     "text": [
      "User record b'8be9fc9d-5b2a-452c-9539-7987905f27a4' successfully produced to topic_0 [0] at offset 6\n"
     ]
    },
    {
     "data": {
      "text/plain": [
       "0"
      ]
     },
     "execution_count": 75,
     "metadata": {},
     "output_type": "execute_result"
    }
   ],
   "source": [
    "from uuid import uuid4\n",
    "\n",
    "message  = Message(20,\"Isaias\",\"ML\")\n",
    "producer.produce(topic=topic,\n",
    "                             key=string_serializer(str(uuid4())),\n",
    "                             value=avro_serializer(message, SerializationContext(topic, MessageField.VALUE)),\n",
    "                             on_delivery=delivery_callback)\n",
    "producer.poll(10000)\n",
    "producer.flush()"
   ]
  },
  {
   "cell_type": "code",
   "execution_count": null,
   "metadata": {},
   "outputs": [],
   "source": []
  }
 ],
 "metadata": {
  "kernelspec": {
   "display_name": "env",
   "language": "python",
   "name": "python3"
  },
  "language_info": {
   "codemirror_mode": {
    "name": "ipython",
    "version": 3
   },
   "file_extension": ".py",
   "mimetype": "text/x-python",
   "name": "python",
   "nbconvert_exporter": "python",
   "pygments_lexer": "ipython3",
   "version": "3.12.4"
  }
 },
 "nbformat": 4,
 "nbformat_minor": 2
}
