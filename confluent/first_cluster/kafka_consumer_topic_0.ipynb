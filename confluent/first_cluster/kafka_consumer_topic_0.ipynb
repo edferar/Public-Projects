{
 "cells": [
  {
   "cell_type": "code",
   "execution_count": null,
   "metadata": {},
   "outputs": [],
   "source": [
    "#!/usr/bin/env python\n",
    "\n",
    "from confluent_kafka import Consumer\n",
    "from config import GetConsumerConfig\n",
    "from confluent_kafka.serialization import StringSerializer, SerializationContext, MessageField\n",
    "from confluent_kafka.schema_registry import SchemaRegistryClient\n",
    "from confluent_kafka.schema_registry.avro import AvroDeserializer\n",
    "from config import GetProducerConfig\n",
    "\n",
    "# if __name__ == '__main__':\n",
    "\n",
    "config = GetConsumerConfig()\n",
    "\n"
   ]
  },
  {
   "cell_type": "code",
   "execution_count": null,
   "metadata": {},
   "outputs": [],
   "source": [
    "class Message(object):\n",
    "\n",
    "    def __init__(self, idade, name, team):\n",
    "        self.name = name\n",
    "        self.idade = idade\n",
    "        self.team = team\n"
   ]
  },
  {
   "cell_type": "code",
   "execution_count": null,
   "metadata": {},
   "outputs": [],
   "source": [
    "def convert_reverse(message,ctx):\n",
    "\n",
    "    if message is None:\n",
    "        return None\n",
    "\n",
    "    return Message(idade=message['idade'],\n",
    "                name=message['name'],\n",
    "                team=message['team'])\n",
    "\n",
    "\n",
    "schema_registry_conf = {'url': \"https://@psrc-57o65q.us-west2.gcp.confluent.cloud\",\n",
    "                        'basic.auth.user.info': \":\"\n",
    "                        }\n",
    "schema_registry_client = SchemaRegistryClient(schema_registry_conf)\n",
    "schema = schema_registry_client.get_schema(100001)\n",
    "avro_deserializer = AvroDeserializer(schema_registry_client,\n",
    "                                     schema.schema_str,\n",
    "                                     convert_reverse)\n"
   ]
  },
  {
   "cell_type": "code",
   "execution_count": null,
   "metadata": {},
   "outputs": [],
   "source": [
    "# Create Producer instance\n",
    "consumer = Consumer(config)\n",
    "\n",
    "\n",
    "# Subscribe to topic\n",
    "\n",
    "topic = \"topic_0\"\n",
    "consumer.subscribe([topic])\n",
    "\n",
    "# Poll for new messages from Kafka and print them.\n",
    "try:\n",
    "    while True:\n",
    "        msg = consumer.poll(1.0)\n",
    "        if msg is None:\n",
    "\n",
    "            pass\n",
    "        elif msg.error():\n",
    "            print(\"ERROR: %s\".format(msg.error()))\n",
    "        else:\n",
    "            message = avro_deserializer(msg.value(), SerializationContext(msg.topic(), MessageField.VALUE))\n",
    "            if message is not None:\n",
    "                print(\"User record {}: name: {}\\n\"\n",
    "                      \"\\tidade: {}\\n\"\n",
    "                      \"\\tmessage: {}\\n\"\n",
    "                      .format(msg.key(), message.name,\n",
    "                              message.idade,\n",
    "                              message.team))\n",
    "except KeyboardInterrupt:\n",
    "    pass\n",
    "finally:\n",
    "    # Leave group and commit final offsets\n",
    "    consumer.close()"
   ]
  },
  {
   "cell_type": "code",
   "execution_count": null,
   "metadata": {},
   "outputs": [],
   "source": []
  },
  {
   "cell_type": "code",
   "execution_count": null,
   "metadata": {},
   "outputs": [],
   "source": [
    "\n",
    "# Subscribe to topic\n",
    "topic = \"topic_0\"\n",
    "consumer.subscribe([topic])\n",
    "\n",
    "# Poll for new messages from Kafka and print them.\n",
    "try:\n",
    "    while True:\n",
    "        msg = consumer.poll(1.0)\n",
    "        if msg is None:\n",
    "            # Initial message consumption may take up to\n",
    "            # `session.timeout.ms` for the consumer group to\n",
    "            # rebalance and start consuming\n",
    "            #print(\"Waiting...\")\n",
    "            pass\n",
    "        elif msg.error():\n",
    "            print(\"ERROR: %s\".format(msg.error()))\n",
    "        else:\n",
    "            # Extract the (optional) key and value, and print.\n",
    "            print(\"Consumed event from topic {topic}: key = {key:12} value = {value:12}\".format(\n",
    "                topic=msg.topic(), key=msg.key().decode('utf-8'), value=msg.value().decode('utf-8')))\n",
    "except KeyboardInterrupt:\n",
    "    pass\n",
    "finally:\n",
    "    # Leave group and commit final offsets\n",
    "    consumer.close()"
   ]
  },
  {
   "cell_type": "code",
   "execution_count": null,
   "metadata": {},
   "outputs": [],
   "source": []
  }
 ],
 "metadata": {
  "kernelspec": {
   "display_name": "env",
   "language": "python",
   "name": "python3"
  },
  "language_info": {
   "codemirror_mode": {
    "name": "ipython",
    "version": 3
   },
   "file_extension": ".py",
   "mimetype": "text/x-python",
   "name": "python",
   "nbconvert_exporter": "python",
   "pygments_lexer": "ipython3",
   "version": "3.12.4"
  }
 },
 "nbformat": 4,
 "nbformat_minor": 2
}
