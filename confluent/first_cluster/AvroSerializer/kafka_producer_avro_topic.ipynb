{
 "cells": [
  {
   "cell_type": "code",
   "execution_count": 1,
   "metadata": {},
   "outputs": [],
   "source": [
    "from message import Message\n",
    "from schema_registry import SchemaRClient\n",
    "from confluent_kafka import Producer\n",
    "from confluent_kafka.serialization import StringSerializer, SerializationContext, MessageField\n",
    "from confluent_kafka.schema_registry.avro import AvroSerializer\n",
    "\n",
    "config = config = {\n",
    "    'bootstrap.servers': 'pkc-12576z.us-west2.gcp.confluent.cloud:9092',\n",
    "    'sasl.username':     '',\n",
    "    'sasl.password':     '',\n",
    "    'security.protocol': 'SASL_SSL',\n",
    "    'sasl.mechanisms':   'PLAIN',\n",
    "    'acks':              'all'\n",
    "}\n",
    "\n",
    "producer = Producer(config)\n"
   ]
  },
  {
   "cell_type": "code",
   "execution_count": 2,
   "metadata": {},
   "outputs": [],
   "source": [
    "def convert_to_dict(message,ctx):\n",
    "    return dict(\n",
    "        idade=message.idade,\n",
    "        name=message.name,\n",
    "        team=message.team)\n",
    "\n",
    "\n",
    "def delivery_callback(err, msg):\n",
    "    if err is not None:\n",
    "        print(\"Delivery failed for User record {}: {}\".format(msg.key(), err))\n",
    "        return\n",
    "    print('User record {} successfully produced to {} [{}] at offset {}'.format(\n",
    "        msg.key(), msg.topic(), msg.partition(), msg.offset()))"
   ]
  },
  {
   "cell_type": "code",
   "execution_count": 3,
   "metadata": {},
   "outputs": [],
   "source": [
    "scr_client = SchemaRClient(\"https://@psrc-57o65q.us-west2.gcp.confluent.cloud\",\n",
    "                                       \"\",\n",
    "                                       \"\"\n",
    "                                       )\n",
    "\n",
    "schema_str = scr_client.get_schema_str(100001)\n",
    "avro_serializer = AvroSerializer(scr_client.client,\n",
    "                                     schema_str,\n",
    "                                     convert_to_dict)\n",
    "\n",
    "string_serializer = StringSerializer('utf_8')"
   ]
  },
  {
   "cell_type": "code",
   "execution_count": 5,
   "metadata": {},
   "outputs": [
    {
     "name": "stdout",
     "output_type": "stream",
     "text": [
      "User record b'e114abb1-1e65-42b2-ace3-138fa2d9215c' successfully produced to topic_0 [0] at offset 13\n"
     ]
    },
    {
     "data": {
      "text/plain": [
       "0"
      ]
     },
     "execution_count": 5,
     "metadata": {},
     "output_type": "execute_result"
    }
   ],
   "source": [
    "topic = \"topic_0\"\n",
    "from uuid import uuid4\n",
    "\n",
    "message  = Message(20,\"Edney\",\"ML\")\n",
    "producer.produce(topic=topic,\n",
    "                             key=string_serializer(str(uuid4())),\n",
    "                             value=avro_serializer(message, SerializationContext(topic, MessageField.VALUE)),\n",
    "                             on_delivery=delivery_callback)\n",
    "producer.poll(10000)\n",
    "producer.flush()\n"
   ]
  },
  {
   "cell_type": "code",
   "execution_count": null,
   "metadata": {},
   "outputs": [],
   "source": []
  }
 ],
 "metadata": {
  "kernelspec": {
   "display_name": "env",
   "language": "python",
   "name": "python3"
  },
  "language_info": {
   "codemirror_mode": {
    "name": "ipython",
    "version": 3
   },
   "file_extension": ".py",
   "mimetype": "text/x-python",
   "name": "python",
   "nbconvert_exporter": "python",
   "pygments_lexer": "ipython3",
   "version": "3.12.4"
  }
 },
 "nbformat": 4,
 "nbformat_minor": 2
}
