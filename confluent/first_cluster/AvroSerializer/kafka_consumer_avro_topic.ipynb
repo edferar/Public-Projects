{
 "cells": [
  {
   "cell_type": "code",
   "execution_count": 16,
   "metadata": {},
   "outputs": [],
   "source": [
    "#!/usr/bin/env python\n",
    "\n",
    "from confluent_kafka import Consumer\n",
    "from message import Message\n",
    "from schema_registry import SchemaRClient\n",
    "from confluent_kafka.serialization import StringSerializer, SerializationContext, MessageField\n",
    "from confluent_kafka.schema_registry.avro import AvroDeserializer\n",
    "\n",
    "\n",
    "\n",
    "config = {\n",
    "        'bootstrap.servers': 'pkc-12576z.us-west2.gcp.confluent.cloud:9092',\n",
    "        'sasl.username':     '',\n",
    "        'sasl.password':     '',\n",
    "        'security.protocol': 'SASL_SSL',\n",
    "        'sasl.mechanisms':   'PLAIN',\n",
    "        'group.id':          'kafka-python-getting-started',\n",
    "        'auto.offset.reset': 'earliest'\n",
    "    }\n",
    "consumer = Consumer(config)"
   ]
  },
  {
   "cell_type": "code",
   "execution_count": 17,
   "metadata": {},
   "outputs": [],
   "source": [
    "def convert_reverse(message,ctx):\n",
    "    if message is None:\n",
    "        return None\n",
    "    return Message(idade=message['idade'],\n",
    "                name=message['name'],\n",
    "                team=message['team'])"
   ]
  },
  {
   "cell_type": "code",
   "execution_count": 18,
   "metadata": {},
   "outputs": [],
   "source": [
    "scr_client = SchemaRClient(\"https://@psrc-57o65q.us-west2.gcp.confluent.cloud\",\n",
    "                                       \"\",\n",
    "                                       \"\"\n",
    "                                       )\n",
    "\n",
    "schema_str = scr_client.get_schema_str(100001)\n",
    "avro_deserializer = AvroDeserializer(scr_client.client,\n",
    "                                     schema_str,\n",
    "                                     convert_reverse)\n",
    "\n",
    "\n",
    "topic = \"topic_0\"\n",
    "consumer.subscribe([topic])\n"
   ]
  },
  {
   "cell_type": "code",
   "execution_count": 19,
   "metadata": {},
   "outputs": [
    {
     "ename": "TypeError",
     "evalue": "Message.__init__() missing 1 required positional argument: 'record_data'",
     "output_type": "error",
     "traceback": [
      "\u001b[1;31m---------------------------------------------------------------------------\u001b[0m",
      "\u001b[1;31mTypeError\u001b[0m                                 Traceback (most recent call last)",
      "Cell \u001b[1;32mIn[19], line 10\u001b[0m\n\u001b[0;32m      8\u001b[0m     \u001b[38;5;28mprint\u001b[39m(\u001b[38;5;124m\"\u001b[39m\u001b[38;5;124mERROR: \u001b[39m\u001b[38;5;132;01m%s\u001b[39;00m\u001b[38;5;124m\"\u001b[39m\u001b[38;5;241m.\u001b[39mformat(msg\u001b[38;5;241m.\u001b[39merror()))\n\u001b[0;32m      9\u001b[0m \u001b[38;5;28;01melse\u001b[39;00m:\n\u001b[1;32m---> 10\u001b[0m     message \u001b[38;5;241m=\u001b[39m \u001b[43mavro_deserializer\u001b[49m\u001b[43m(\u001b[49m\u001b[43mmsg\u001b[49m\u001b[38;5;241;43m.\u001b[39;49m\u001b[43mvalue\u001b[49m\u001b[43m(\u001b[49m\u001b[43m)\u001b[49m\u001b[43m,\u001b[49m\u001b[43m \u001b[49m\u001b[43mSerializationContext\u001b[49m\u001b[43m(\u001b[49m\u001b[43mmsg\u001b[49m\u001b[38;5;241;43m.\u001b[39;49m\u001b[43mtopic\u001b[49m\u001b[43m(\u001b[49m\u001b[43m)\u001b[49m\u001b[43m,\u001b[49m\u001b[43m \u001b[49m\u001b[43mMessageField\u001b[49m\u001b[38;5;241;43m.\u001b[39;49m\u001b[43mVALUE\u001b[49m\u001b[43m)\u001b[49m\u001b[43m)\u001b[49m\n\u001b[0;32m     11\u001b[0m     \u001b[38;5;28;01mif\u001b[39;00m message \u001b[38;5;129;01mis\u001b[39;00m \u001b[38;5;129;01mnot\u001b[39;00m \u001b[38;5;28;01mNone\u001b[39;00m:\n\u001b[0;32m     12\u001b[0m         \u001b[38;5;28mprint\u001b[39m(\u001b[38;5;124m\"\u001b[39m\u001b[38;5;124mUser record \u001b[39m\u001b[38;5;132;01m{}\u001b[39;00m\u001b[38;5;124m: name: \u001b[39m\u001b[38;5;132;01m{}\u001b[39;00m\u001b[38;5;130;01m\\n\u001b[39;00m\u001b[38;5;124m\"\u001b[39m\n\u001b[0;32m     13\u001b[0m               \u001b[38;5;124m\"\u001b[39m\u001b[38;5;130;01m\\t\u001b[39;00m\u001b[38;5;124midade: \u001b[39m\u001b[38;5;132;01m{}\u001b[39;00m\u001b[38;5;130;01m\\n\u001b[39;00m\u001b[38;5;124m\"\u001b[39m\n\u001b[0;32m     14\u001b[0m               \u001b[38;5;124m\"\u001b[39m\u001b[38;5;130;01m\\t\u001b[39;00m\u001b[38;5;124mmessage: \u001b[39m\u001b[38;5;132;01m{}\u001b[39;00m\u001b[38;5;130;01m\\n\u001b[39;00m\u001b[38;5;124m\"\u001b[39m\n\u001b[0;32m     15\u001b[0m               \u001b[38;5;241m.\u001b[39mformat(msg\u001b[38;5;241m.\u001b[39mkey(), message\u001b[38;5;241m.\u001b[39mname,\n\u001b[0;32m     16\u001b[0m                       message\u001b[38;5;241m.\u001b[39midade,\n\u001b[0;32m     17\u001b[0m                       message\u001b[38;5;241m.\u001b[39mteam))\n",
      "File \u001b[1;32mc:\\projects\\confluent\\env\\Lib\\site-packages\\confluent_kafka\\schema_registry\\avro.py:435\u001b[0m, in \u001b[0;36mAvroDeserializer.__call__\u001b[1;34m(self, data, ctx)\u001b[0m\n\u001b[0;32m    429\u001b[0m obj_dict \u001b[38;5;241m=\u001b[39m schemaless_reader(payload,\n\u001b[0;32m    430\u001b[0m                              writer_schema,\n\u001b[0;32m    431\u001b[0m                              \u001b[38;5;28mself\u001b[39m\u001b[38;5;241m.\u001b[39m_reader_schema,\n\u001b[0;32m    432\u001b[0m                              \u001b[38;5;28mself\u001b[39m\u001b[38;5;241m.\u001b[39m_return_record_name)\n\u001b[0;32m    434\u001b[0m \u001b[38;5;28;01mif\u001b[39;00m \u001b[38;5;28mself\u001b[39m\u001b[38;5;241m.\u001b[39m_from_dict \u001b[38;5;129;01mis\u001b[39;00m \u001b[38;5;129;01mnot\u001b[39;00m \u001b[38;5;28;01mNone\u001b[39;00m:\n\u001b[1;32m--> 435\u001b[0m     \u001b[38;5;28;01mreturn\u001b[39;00m \u001b[38;5;28;43mself\u001b[39;49m\u001b[38;5;241;43m.\u001b[39;49m\u001b[43m_from_dict\u001b[49m\u001b[43m(\u001b[49m\u001b[43mobj_dict\u001b[49m\u001b[43m,\u001b[49m\u001b[43m \u001b[49m\u001b[43mctx\u001b[49m\u001b[43m)\u001b[49m\n\u001b[0;32m    437\u001b[0m \u001b[38;5;28;01mreturn\u001b[39;00m obj_dict\n",
      "Cell \u001b[1;32mIn[17], line 4\u001b[0m, in \u001b[0;36mconvert_reverse\u001b[1;34m(message, ctx)\u001b[0m\n\u001b[0;32m      2\u001b[0m \u001b[38;5;28;01mif\u001b[39;00m message \u001b[38;5;129;01mis\u001b[39;00m \u001b[38;5;28;01mNone\u001b[39;00m:\n\u001b[0;32m      3\u001b[0m     \u001b[38;5;28;01mreturn\u001b[39;00m \u001b[38;5;28;01mNone\u001b[39;00m\n\u001b[1;32m----> 4\u001b[0m \u001b[38;5;28;01mreturn\u001b[39;00m \u001b[43mMessage\u001b[49m\u001b[43m(\u001b[49m\u001b[43midade\u001b[49m\u001b[38;5;241;43m=\u001b[39;49m\u001b[43mmessage\u001b[49m\u001b[43m[\u001b[49m\u001b[38;5;124;43m'\u001b[39;49m\u001b[38;5;124;43midade\u001b[39;49m\u001b[38;5;124;43m'\u001b[39;49m\u001b[43m]\u001b[49m\u001b[43m,\u001b[49m\n\u001b[0;32m      5\u001b[0m \u001b[43m            \u001b[49m\u001b[43mname\u001b[49m\u001b[38;5;241;43m=\u001b[39;49m\u001b[43mmessage\u001b[49m\u001b[43m[\u001b[49m\u001b[38;5;124;43m'\u001b[39;49m\u001b[38;5;124;43mname\u001b[39;49m\u001b[38;5;124;43m'\u001b[39;49m\u001b[43m]\u001b[49m\u001b[43m,\u001b[49m\n\u001b[0;32m      6\u001b[0m \u001b[43m            \u001b[49m\u001b[43mteam\u001b[49m\u001b[38;5;241;43m=\u001b[39;49m\u001b[43mmessage\u001b[49m\u001b[43m[\u001b[49m\u001b[38;5;124;43m'\u001b[39;49m\u001b[38;5;124;43mteam\u001b[39;49m\u001b[38;5;124;43m'\u001b[39;49m\u001b[43m]\u001b[49m\u001b[43m)\u001b[49m\n",
      "\u001b[1;31mTypeError\u001b[0m: Message.__init__() missing 1 required positional argument: 'record_data'"
     ]
    }
   ],
   "source": [
    "\n",
    "\n",
    "try:\n",
    "    while True:\n",
    "        msg = consumer.poll(1.0)\n",
    "        if msg is None:\n",
    "\n",
    "            pass\n",
    "        elif msg.error():\n",
    "            print(\"ERROR: %s\".format(msg.error()))\n",
    "        else:\n",
    "            message = avro_deserializer(msg.value(), SerializationContext(msg.topic(), MessageField.VALUE))\n",
    "            if message is not None:\n",
    "                print(\"User record {}: name: {}\\n\"\n",
    "                      \"\\tidade: {}\\n\"\n",
    "                      \"\\tmessage: {}\\n\"\n",
    "                      .format(msg.key(), message.name,\n",
    "                              message.idade,\n",
    "                              message.team))\n",
    "except KeyboardInterrupt:\n",
    "    pass\n",
    "finally:\n",
    "    # Leave group and commit final offsets\n",
    "    consumer.close()"
   ]
  },
  {
   "cell_type": "code",
   "execution_count": null,
   "metadata": {},
   "outputs": [],
   "source": []
  },
  {
   "cell_type": "code",
   "execution_count": null,
   "metadata": {},
   "outputs": [],
   "source": [
    "\n",
    "# Subscribe to topic\n",
    "topic = \"topic_0\"\n",
    "consumer.subscribe([topic])\n",
    "\n",
    "# Poll for new messages from Kafka and print them.\n",
    "try:\n",
    "    while True:\n",
    "        msg = consumer.poll(1.0)\n",
    "        if msg is None:\n",
    "            # Initial message consumption may take up to\n",
    "            # `session.timeout.ms` for the consumer group to\n",
    "            # rebalance and start consuming\n",
    "            #print(\"Waiting...\")\n",
    "            pass\n",
    "        elif msg.error():\n",
    "            print(\"ERROR: %s\".format(msg.error()))\n",
    "        else:\n",
    "            # Extract the (optional) key and value, and print.\n",
    "            print(\"Consumed event from topic {topic}: key = {key:12} value = {value:12}\".format(\n",
    "                topic=msg.topic(), key=msg.key().decode('utf-8'), value=msg.value().decode('utf-8')))\n",
    "except KeyboardInterrupt:\n",
    "    pass\n",
    "finally:\n",
    "    # Leave group and commit final offsets\n",
    "    consumer.close()"
   ]
  },
  {
   "cell_type": "code",
   "execution_count": null,
   "metadata": {},
   "outputs": [],
   "source": []
  }
 ],
 "metadata": {
  "kernelspec": {
   "display_name": "env",
   "language": "python",
   "name": "python3"
  },
  "language_info": {
   "codemirror_mode": {
    "name": "ipython",
    "version": 3
   },
   "file_extension": ".py",
   "mimetype": "text/x-python",
   "name": "python",
   "nbconvert_exporter": "python",
   "pygments_lexer": "ipython3",
   "version": "3.12.4"
  }
 },
 "nbformat": 4,
 "nbformat_minor": 2
}
