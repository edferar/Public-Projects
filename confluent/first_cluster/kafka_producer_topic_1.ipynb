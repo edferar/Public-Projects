{
 "cells": [
  {
   "cell_type": "code",
   "execution_count": 1,
   "metadata": {},
   "outputs": [],
   "source": [
    "#!/usr/bin/env python\n",
    "\n",
    "from random import choice\n",
    "from confluent_kafka import Producer\n",
    "from config import GetProducerConfig\n",
    "\n",
    "# if __name__ == '__main__':\n",
    "\n",
    "config = GetProducerConfig()\n",
    "\n",
    "# Create Producer instance\n",
    "producer = Producer(config)\n"
   ]
  },
  {
   "cell_type": "code",
   "execution_count": 2,
   "metadata": {},
   "outputs": [],
   "source": [
    "\n",
    "def delivery_callback(err, msg):\n",
    "    if err:\n",
    "        print('ERROR: Message failed delivery: {}'.format(err))\n",
    "    else:\n",
    "        print(\"Produced event to topic {topic}: key = {key:12} value = {value:12}\".format(\n",
    "            topic=msg.topic(), key=msg.key().decode('utf-8'), value=msg.value().decode('utf-8')))\n",
    "\n",
    "topic = \"topic_1\"\n",
    "user_ids = ['eabara', 'jsmith', 'sgarcia', 'jbernard', 'htanaka', 'awalther']\n",
    "products = ['book', 'alarm clock', 't-shirts', 'gift card', 'batteries']\n",
    "\n",
    "count = 0\n"
   ]
  },
  {
   "cell_type": "code",
   "execution_count": 3,
   "metadata": {},
   "outputs": [
    {
     "name": "stdout",
     "output_type": "stream",
     "text": [
      "Produced event to topic topic_1: key = jsmith       value = t-shirts    \n",
      "Produced event to topic topic_1: key = jbernard     value = t-shirts    \n",
      "Produced event to topic topic_1: key = sgarcia      value = book        \n",
      "Produced event to topic topic_1: key = awalther     value = gift card   \n",
      "Produced event to topic topic_1: key = eabara       value = batteries   \n",
      "Produced event to topic topic_1: key = jbernard     value = gift card   \n",
      "Produced event to topic topic_1: key = jbernard     value = alarm clock \n",
      "Produced event to topic topic_1: key = htanaka      value = book        \n",
      "Produced event to topic topic_1: key = sgarcia      value = alarm clock \n",
      "Produced event to topic topic_1: key = jsmith       value = batteries   \n"
     ]
    },
    {
     "data": {
      "text/plain": [
       "0"
      ]
     },
     "execution_count": 3,
     "metadata": {},
     "output_type": "execute_result"
    }
   ],
   "source": [
    "for _ in range(10):\n",
    "    user_id = choice(user_ids)\n",
    "    product = choice(products)\n",
    "    producer.produce(topic, product, user_id, callback=delivery_callback)\n",
    "    count += 1\n",
    "\n",
    "# Block until the messages are sent.\n",
    "producer.poll(10000)\n",
    "producer.flush()"
   ]
  },
  {
   "cell_type": "code",
   "execution_count": 6,
   "metadata": {},
   "outputs": [
    {
     "name": "stdout",
     "output_type": "stream",
     "text": [
      "Produced event to topic topic_1: key = edney        value = kafka-test  \n"
     ]
    },
    {
     "data": {
      "text/plain": [
       "0"
      ]
     },
     "execution_count": 6,
     "metadata": {},
     "output_type": "execute_result"
    }
   ],
   "source": [
    "\n",
    "producer.produce(topic, 'kafka-test', 'edney', callback=delivery_callback)\n",
    "producer.poll(10000)\n",
    "producer.flush()"
   ]
  },
  {
   "cell_type": "code",
   "execution_count": null,
   "metadata": {},
   "outputs": [],
   "source": []
  }
 ],
 "metadata": {
  "kernelspec": {
   "display_name": "env",
   "language": "python",
   "name": "python3"
  },
  "language_info": {
   "codemirror_mode": {
    "name": "ipython",
    "version": 3
   },
   "file_extension": ".py",
   "mimetype": "text/x-python",
   "name": "python",
   "nbconvert_exporter": "python",
   "pygments_lexer": "ipython3",
   "version": "3.12.4"
  }
 },
 "nbformat": 4,
 "nbformat_minor": 2
}
