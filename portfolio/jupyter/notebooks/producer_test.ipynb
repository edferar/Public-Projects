{
 "cells": [
  {
   "cell_type": "code",
   "execution_count": 5,
   "metadata": {},
   "outputs": [
    {
     "name": "stdout",
     "output_type": "stream",
     "text": [
      "Requirement already satisfied: pip in c:\\users\\edferar\\appdata\\local\\programs\\python\\python312\\lib\\site-packages (24.1.2)\n",
      "Collecting pip\n",
      "  Downloading pip-24.2-py3-none-any.whl.metadata (3.6 kB)\n",
      "Downloading pip-24.2-py3-none-any.whl (1.8 MB)\n",
      "   ---------------------------------------- 0.0/1.8 MB ? eta -:--:--\n",
      "   ----------- ---------------------------- 0.5/1.8 MB 11.1 MB/s eta 0:00:01\n",
      "   ---------------------------------------  1.8/1.8 MB 19.2 MB/s eta 0:00:01\n",
      "   ---------------------------------------- 1.8/1.8 MB 16.4 MB/s eta 0:00:00\n",
      "Installing collected packages: pip\n",
      "  Attempting uninstall: pip\n",
      "    Found existing installation: pip 24.1.2\n",
      "    Uninstalling pip-24.1.2:\n",
      "      Successfully uninstalled pip-24.1.2\n",
      "Successfully installed pip-24.2\n",
      "Requirement already satisfied: kafka-python in c:\\users\\edferar\\appdata\\local\\programs\\python\\python312\\lib\\site-packages (2.0.2)\n"
     ]
    }
   ],
   "source": [
    "!python.exe -m pip install --upgrade pip\n",
    "!pip install kafka-python\n",
    "!pip install kafka-python-ng\n",
    "#apos a instalacao o Kernel devera ser reiniciado"
   ]
  },
  {
   "cell_type": "code",
   "execution_count": 4,
   "metadata": {},
   "outputs": [],
   "source": [
    "from kafka import KafkaProducer\n",
    "import json\n",
    "\n",
    "# Configuração do produtor\n",
    "producer = KafkaProducer(\n",
    "    bootstrap_servers='wednesday-primary-cluster-kafka-bootstrap.kafka.svc:9092',  \n",
    "    api_version=(3, 7, 0),\n",
    ")\n"
   ]
  },
  {
   "cell_type": "code",
   "execution_count": 5,
   "metadata": {},
   "outputs": [
    {
     "name": "stdout",
     "output_type": "stream",
     "text": [
      "Mensagem enviada: value is 0\n",
      "Mensagem enviada: value is 1\n",
      "Mensagem enviada: value is 2\n",
      "Mensagem enviada: value is 3\n",
      "Mensagem enviada: value is 4\n",
      "Mensagem enviada: value is 5\n",
      "Mensagem enviada: value is 6\n",
      "Mensagem enviada: value is 7\n",
      "Mensagem enviada: value is 8\n",
      "Mensagem enviada: value is 9\n"
     ]
    }
   ],
   "source": [
    "import time\n",
    "\n",
    "\n",
    "for i in range(10):\n",
    "    # Produzir uma mensagem\n",
    "    message = f'value is {i}'\n",
    "    producer.send('test-topic', value=message.encode('utf-8'))\n",
    "    print(\"Mensagem enviada:\", message)\n",
    "    time.sleep(5)\n",
    "producer.flush() "
   ]
  },
  {
   "cell_type": "code",
   "execution_count": null,
   "metadata": {},
   "outputs": [],
   "source": []
  }
 ],
 "metadata": {
  "kernelspec": {
   "display_name": "Python 3 (ipykernel)",
   "language": "python",
   "name": "python3"
  },
  "language_info": {
   "codemirror_mode": {
    "name": "ipython",
    "version": 3
   },
   "file_extension": ".py",
   "mimetype": "text/x-python",
   "name": "python",
   "nbconvert_exporter": "python",
   "pygments_lexer": "ipython3",
   "version": "3.11.9"
  }
 },
 "nbformat": 4,
 "nbformat_minor": 4
}
